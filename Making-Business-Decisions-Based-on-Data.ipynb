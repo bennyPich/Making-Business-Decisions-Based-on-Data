{
 "cells": [
  {
   "cell_type": "markdown",
   "metadata": {},
   "source": [
    "# Reserch for online store"
   ]
  },
  {
   "cell_type": "markdown",
   "metadata": {},
   "source": [
    "Together with the marketing department, we've compiled a list of hypotheses that may help boost revenue.<br>\n",
    "We need to do the following steps:\n",
    "- We need to prioritize these hypotheses\n",
    "- launch an A/B test\n",
    "- and analyze the results\n",
    "<br><br>\n",
    "We got the following files:<br>\n",
    "- hypotheses_us.csv - list of hypotheses  <br>\n",
    "- orders_us.csv - list of orders  <br>\n",
    "- visits_us.csv - list of visits  <br>\n"
   ]
  },
  {
   "cell_type": "markdown",
   "metadata": {},
   "source": [
    "##  Download the data and prepare it for analysis"
   ]
  },
  {
   "cell_type": "code",
   "execution_count": 1,
   "metadata": {},
   "outputs": [],
   "source": [
    "import pandas as pd\n",
    "import seaborn as sns\n",
    "from matplotlib import pyplot as plt\n",
    "import numpy as np\n",
    "import plotly.express as px\n",
    "import plotly.graph_objects as go\n",
    "import scipy.stats as stats\n",
    "pd.set_option('display.max_columns', None)\n",
    "pd.set_option('max_colwidth', 120)\n",
    "pd.set_option('display.width', 500)"
   ]
  },
  {
   "cell_type": "code",
   "execution_count": 2,
   "metadata": {},
   "outputs": [],
   "source": [
    "try:\n",
    "    file_name = 'hypotheses_us.csv'\n",
    "    hypotheses = pd.read_csv('https://code.s3.yandex.net/datasets/' + file_name,sep=';')\n",
    "except:\n",
    "  print(\"An exception occurred will reading csv file\", file_name)\n",
    "\n",
    "try:\n",
    "    file_name = 'orders_us.csv'\n",
    "    orders = pd.read_csv('https://code.s3.yandex.net/datasets/' + file_name,         \n",
    "         parse_dates=['date'],\n",
    "     )\n",
    "except:\n",
    "  print(\"An exception occurred will reading csv file\", file_name)\n",
    "\n",
    "try:\n",
    "    file_name = 'visits_us.csv'\n",
    "    visits = pd.read_csv('https://code.s3.yandex.net/datasets/' + file_name,\n",
    "         parse_dates=['date'],\n",
    "     )\n",
    "except:\n",
    "  print(\"An exception occurred will reading csv file\", file_name)"
   ]
  },
  {
   "cell_type": "code",
   "execution_count": 3,
   "metadata": {},
   "outputs": [
    {
     "data": {
      "text/html": [
       "<div>\n",
       "<style scoped>\n",
       "    .dataframe tbody tr th:only-of-type {\n",
       "        vertical-align: middle;\n",
       "    }\n",
       "\n",
       "    .dataframe tbody tr th {\n",
       "        vertical-align: top;\n",
       "    }\n",
       "\n",
       "    .dataframe thead th {\n",
       "        text-align: right;\n",
       "    }\n",
       "</style>\n",
       "<table border=\"1\" class=\"dataframe\">\n",
       "  <thead>\n",
       "    <tr style=\"text-align: right;\">\n",
       "      <th></th>\n",
       "      <th>Hypothesis</th>\n",
       "      <th>Reach</th>\n",
       "      <th>Impact</th>\n",
       "      <th>Confidence</th>\n",
       "      <th>Effort</th>\n",
       "    </tr>\n",
       "  </thead>\n",
       "  <tbody>\n",
       "    <tr>\n",
       "      <td>0</td>\n",
       "      <td>Add two new channels for attracting traffic. This will bring 30% more users</td>\n",
       "      <td>3</td>\n",
       "      <td>10</td>\n",
       "      <td>8</td>\n",
       "      <td>6</td>\n",
       "    </tr>\n",
       "    <tr>\n",
       "      <td>1</td>\n",
       "      <td>Launch your own delivery service. This will shorten delivery time</td>\n",
       "      <td>2</td>\n",
       "      <td>5</td>\n",
       "      <td>4</td>\n",
       "      <td>10</td>\n",
       "    </tr>\n",
       "    <tr>\n",
       "      <td>2</td>\n",
       "      <td>Add product recommendation blocks to the store's site. This will increase conversion and average purchase size</td>\n",
       "      <td>8</td>\n",
       "      <td>3</td>\n",
       "      <td>7</td>\n",
       "      <td>3</td>\n",
       "    </tr>\n",
       "    <tr>\n",
       "      <td>3</td>\n",
       "      <td>Change the category structure. This will increase conversion since users will find the products they want more quickly</td>\n",
       "      <td>8</td>\n",
       "      <td>3</td>\n",
       "      <td>3</td>\n",
       "      <td>8</td>\n",
       "    </tr>\n",
       "    <tr>\n",
       "      <td>4</td>\n",
       "      <td>Change the background color on the main page. This will increase user engagement</td>\n",
       "      <td>3</td>\n",
       "      <td>1</td>\n",
       "      <td>1</td>\n",
       "      <td>1</td>\n",
       "    </tr>\n",
       "  </tbody>\n",
       "</table>\n",
       "</div>"
      ],
      "text/plain": [
       "                                                                                                               Hypothesis  Reach  Impact  Confidence  Effort\n",
       "0                                             Add two new channels for attracting traffic. This will bring 30% more users      3      10           8       6\n",
       "1                                                       Launch your own delivery service. This will shorten delivery time      2       5           4      10\n",
       "2          Add product recommendation blocks to the store's site. This will increase conversion and average purchase size      8       3           7       3\n",
       "3  Change the category structure. This will increase conversion since users will find the products they want more quickly      8       3           3       8\n",
       "4                                        Change the background color on the main page. This will increase user engagement      3       1           1       1"
      ]
     },
     "execution_count": 3,
     "metadata": {},
     "output_type": "execute_result"
    }
   ],
   "source": [
    "#Explorer data\n",
    "hypotheses.head()"
   ]
  },
  {
   "cell_type": "code",
   "execution_count": 4,
   "metadata": {},
   "outputs": [
    {
     "name": "stdout",
     "output_type": "stream",
     "text": [
      "<class 'pandas.core.frame.DataFrame'>\n",
      "RangeIndex: 9 entries, 0 to 8\n",
      "Data columns (total 5 columns):\n",
      "Hypothesis    9 non-null object\n",
      "Reach         9 non-null int64\n",
      "Impact        9 non-null int64\n",
      "Confidence    9 non-null int64\n",
      "Effort        9 non-null int64\n",
      "dtypes: int64(4), object(1)\n",
      "memory usage: 488.0+ bytes\n"
     ]
    }
   ],
   "source": [
    "hypotheses.info()"
   ]
  },
  {
   "cell_type": "markdown",
   "metadata": {},
   "source": [
    "All data types are correct"
   ]
  },
  {
   "cell_type": "code",
   "execution_count": 5,
   "metadata": {},
   "outputs": [
    {
     "data": {
      "text/plain": [
       "0"
      ]
     },
     "execution_count": 5,
     "metadata": {},
     "output_type": "execute_result"
    }
   ],
   "source": [
    "#Check for duplicates\n",
    "hypotheses.duplicated().sum()"
   ]
  },
  {
   "cell_type": "markdown",
   "metadata": {},
   "source": [
    "There are no duplicated rows in hypotheses table"
   ]
  },
  {
   "cell_type": "code",
   "execution_count": 6,
   "metadata": {},
   "outputs": [
    {
     "data": {
      "text/html": [
       "<div>\n",
       "<style scoped>\n",
       "    .dataframe tbody tr th:only-of-type {\n",
       "        vertical-align: middle;\n",
       "    }\n",
       "\n",
       "    .dataframe tbody tr th {\n",
       "        vertical-align: top;\n",
       "    }\n",
       "\n",
       "    .dataframe thead th {\n",
       "        text-align: right;\n",
       "    }\n",
       "</style>\n",
       "<table border=\"1\" class=\"dataframe\">\n",
       "  <thead>\n",
       "    <tr style=\"text-align: right;\">\n",
       "      <th></th>\n",
       "      <th>Hypothesis</th>\n",
       "    </tr>\n",
       "  </thead>\n",
       "  <tbody>\n",
       "    <tr>\n",
       "      <td>count</td>\n",
       "      <td>9</td>\n",
       "    </tr>\n",
       "    <tr>\n",
       "      <td>unique</td>\n",
       "      <td>9</td>\n",
       "    </tr>\n",
       "    <tr>\n",
       "      <td>top</td>\n",
       "      <td>Add two new channels for attracting traffic. This will bring 30% more users</td>\n",
       "    </tr>\n",
       "    <tr>\n",
       "      <td>freq</td>\n",
       "      <td>1</td>\n",
       "    </tr>\n",
       "  </tbody>\n",
       "</table>\n",
       "</div>"
      ],
      "text/plain": [
       "                                                                         Hypothesis\n",
       "count                                                                             9\n",
       "unique                                                                            9\n",
       "top     Add two new channels for attracting traffic. This will bring 30% more users\n",
       "freq                                                                              1"
      ]
     },
     "execution_count": 6,
     "metadata": {},
     "output_type": "execute_result"
    }
   ],
   "source": [
    "#Explorer data\n",
    "hypotheses.describe(include = ['object'])"
   ]
  },
  {
   "cell_type": "code",
   "execution_count": 7,
   "metadata": {},
   "outputs": [
    {
     "data": {
      "text/html": [
       "<div>\n",
       "<style scoped>\n",
       "    .dataframe tbody tr th:only-of-type {\n",
       "        vertical-align: middle;\n",
       "    }\n",
       "\n",
       "    .dataframe tbody tr th {\n",
       "        vertical-align: top;\n",
       "    }\n",
       "\n",
       "    .dataframe thead th {\n",
       "        text-align: right;\n",
       "    }\n",
       "</style>\n",
       "<table border=\"1\" class=\"dataframe\">\n",
       "  <thead>\n",
       "    <tr style=\"text-align: right;\">\n",
       "      <th></th>\n",
       "      <th>transactionId</th>\n",
       "      <th>visitorId</th>\n",
       "      <th>date</th>\n",
       "      <th>revenue</th>\n",
       "      <th>group</th>\n",
       "    </tr>\n",
       "  </thead>\n",
       "  <tbody>\n",
       "    <tr>\n",
       "      <td>0</td>\n",
       "      <td>3667963787</td>\n",
       "      <td>3312258926</td>\n",
       "      <td>2019-08-15</td>\n",
       "      <td>30.4</td>\n",
       "      <td>B</td>\n",
       "    </tr>\n",
       "    <tr>\n",
       "      <td>1</td>\n",
       "      <td>2804400009</td>\n",
       "      <td>3642806036</td>\n",
       "      <td>2019-08-15</td>\n",
       "      <td>15.2</td>\n",
       "      <td>B</td>\n",
       "    </tr>\n",
       "    <tr>\n",
       "      <td>2</td>\n",
       "      <td>2961555356</td>\n",
       "      <td>4069496402</td>\n",
       "      <td>2019-08-15</td>\n",
       "      <td>10.2</td>\n",
       "      <td>A</td>\n",
       "    </tr>\n",
       "    <tr>\n",
       "      <td>3</td>\n",
       "      <td>3797467345</td>\n",
       "      <td>1196621759</td>\n",
       "      <td>2019-08-15</td>\n",
       "      <td>155.1</td>\n",
       "      <td>B</td>\n",
       "    </tr>\n",
       "    <tr>\n",
       "      <td>4</td>\n",
       "      <td>2282983706</td>\n",
       "      <td>2322279887</td>\n",
       "      <td>2019-08-15</td>\n",
       "      <td>40.5</td>\n",
       "      <td>B</td>\n",
       "    </tr>\n",
       "  </tbody>\n",
       "</table>\n",
       "</div>"
      ],
      "text/plain": [
       "   transactionId   visitorId       date  revenue group\n",
       "0     3667963787  3312258926 2019-08-15     30.4     B\n",
       "1     2804400009  3642806036 2019-08-15     15.2     B\n",
       "2     2961555356  4069496402 2019-08-15     10.2     A\n",
       "3     3797467345  1196621759 2019-08-15    155.1     B\n",
       "4     2282983706  2322279887 2019-08-15     40.5     B"
      ]
     },
     "execution_count": 7,
     "metadata": {},
     "output_type": "execute_result"
    }
   ],
   "source": [
    "#Explorer data\n",
    "orders.head()"
   ]
  },
  {
   "cell_type": "code",
   "execution_count": 8,
   "metadata": {},
   "outputs": [
    {
     "name": "stdout",
     "output_type": "stream",
     "text": [
      "<class 'pandas.core.frame.DataFrame'>\n",
      "RangeIndex: 1197 entries, 0 to 1196\n",
      "Data columns (total 5 columns):\n",
      "transactionId    1197 non-null int64\n",
      "visitorId        1197 non-null int64\n",
      "date             1197 non-null datetime64[ns]\n",
      "revenue          1197 non-null float64\n",
      "group            1197 non-null object\n",
      "dtypes: datetime64[ns](1), float64(1), int64(2), object(1)\n",
      "memory usage: 46.9+ KB\n"
     ]
    }
   ],
   "source": [
    "orders.info()"
   ]
  },
  {
   "cell_type": "markdown",
   "metadata": {},
   "source": [
    "All data types are correct"
   ]
  },
  {
   "cell_type": "code",
   "execution_count": 9,
   "metadata": {},
   "outputs": [
    {
     "data": {
      "text/plain": [
       "0"
      ]
     },
     "execution_count": 9,
     "metadata": {},
     "output_type": "execute_result"
    }
   ],
   "source": [
    "#Check for duplicates\n",
    "orders.duplicated().sum()"
   ]
  },
  {
   "cell_type": "code",
   "execution_count": 10,
   "metadata": {},
   "outputs": [
    {
     "data": {
      "text/html": [
       "<div>\n",
       "<style scoped>\n",
       "    .dataframe tbody tr th:only-of-type {\n",
       "        vertical-align: middle;\n",
       "    }\n",
       "\n",
       "    .dataframe tbody tr th {\n",
       "        vertical-align: top;\n",
       "    }\n",
       "\n",
       "    .dataframe thead th {\n",
       "        text-align: right;\n",
       "    }\n",
       "</style>\n",
       "<table border=\"1\" class=\"dataframe\">\n",
       "  <thead>\n",
       "    <tr style=\"text-align: right;\">\n",
       "      <th></th>\n",
       "      <th>group</th>\n",
       "    </tr>\n",
       "  </thead>\n",
       "  <tbody>\n",
       "    <tr>\n",
       "      <td>count</td>\n",
       "      <td>1197</td>\n",
       "    </tr>\n",
       "    <tr>\n",
       "      <td>unique</td>\n",
       "      <td>2</td>\n",
       "    </tr>\n",
       "    <tr>\n",
       "      <td>top</td>\n",
       "      <td>B</td>\n",
       "    </tr>\n",
       "    <tr>\n",
       "      <td>freq</td>\n",
       "      <td>640</td>\n",
       "    </tr>\n",
       "  </tbody>\n",
       "</table>\n",
       "</div>"
      ],
      "text/plain": [
       "       group\n",
       "count   1197\n",
       "unique     2\n",
       "top        B\n",
       "freq     640"
      ]
     },
     "execution_count": 10,
     "metadata": {},
     "output_type": "execute_result"
    }
   ],
   "source": [
    "#Explorer data\n",
    "orders.describe(include = ['object'])"
   ]
  },
  {
   "cell_type": "markdown",
   "metadata": {},
   "source": [
    "There are no duplicated rows in orders table"
   ]
  },
  {
   "cell_type": "code",
   "execution_count": 11,
   "metadata": {},
   "outputs": [
    {
     "data": {
      "text/plain": [
       "1    973\n",
       "2     58\n",
       "Name: group, dtype: int64"
      ]
     },
     "execution_count": 11,
     "metadata": {},
     "output_type": "execute_result"
    }
   ],
   "source": [
    "filtered_orders = orders.groupby('visitorId').agg({'group':'nunique'}).reset_index()\n",
    "filtered_orders['group'].value_counts() "
   ]
  },
  {
   "cell_type": "markdown",
   "metadata": {},
   "source": [
    "There are 58 users that Associated to both groups.\n",
    "We shall remove them "
   ]
  },
  {
   "cell_type": "code",
   "execution_count": 12,
   "metadata": {},
   "outputs": [],
   "source": [
    "#drop users that Associated to both groups\n",
    "orders.drop(orders[orders['visitorId'].isin(filtered_orders[filtered_orders['group']==2]['visitorId'])].index,inplace=True)"
   ]
  },
  {
   "cell_type": "code",
   "execution_count": 13,
   "metadata": {},
   "outputs": [
    {
     "data": {
      "text/plain": [
       "B    548\n",
       "A    468\n",
       "Name: group, dtype: int64"
      ]
     },
     "execution_count": 13,
     "metadata": {},
     "output_type": "execute_result"
    }
   ],
   "source": [
    "orders['group'].value_counts() "
   ]
  },
  {
   "cell_type": "markdown",
   "metadata": {},
   "source": [
    "<b>we got groups with different sizes <br>\n",
    "   we are given a ready-made A/B dataset<br>\n",
    "   There is no other option  than work with this dataset\n",
    "</b>"
   ]
  },
  {
   "cell_type": "code",
   "execution_count": 14,
   "metadata": {},
   "outputs": [
    {
     "data": {
      "text/html": [
       "<div>\n",
       "<style scoped>\n",
       "    .dataframe tbody tr th:only-of-type {\n",
       "        vertical-align: middle;\n",
       "    }\n",
       "\n",
       "    .dataframe tbody tr th {\n",
       "        vertical-align: top;\n",
       "    }\n",
       "\n",
       "    .dataframe thead th {\n",
       "        text-align: right;\n",
       "    }\n",
       "</style>\n",
       "<table border=\"1\" class=\"dataframe\">\n",
       "  <thead>\n",
       "    <tr style=\"text-align: right;\">\n",
       "      <th></th>\n",
       "      <th>date</th>\n",
       "      <th>group</th>\n",
       "      <th>visits</th>\n",
       "    </tr>\n",
       "  </thead>\n",
       "  <tbody>\n",
       "    <tr>\n",
       "      <td>0</td>\n",
       "      <td>2019-08-01</td>\n",
       "      <td>A</td>\n",
       "      <td>719</td>\n",
       "    </tr>\n",
       "    <tr>\n",
       "      <td>1</td>\n",
       "      <td>2019-08-02</td>\n",
       "      <td>A</td>\n",
       "      <td>619</td>\n",
       "    </tr>\n",
       "    <tr>\n",
       "      <td>2</td>\n",
       "      <td>2019-08-03</td>\n",
       "      <td>A</td>\n",
       "      <td>507</td>\n",
       "    </tr>\n",
       "    <tr>\n",
       "      <td>3</td>\n",
       "      <td>2019-08-04</td>\n",
       "      <td>A</td>\n",
       "      <td>717</td>\n",
       "    </tr>\n",
       "    <tr>\n",
       "      <td>4</td>\n",
       "      <td>2019-08-05</td>\n",
       "      <td>A</td>\n",
       "      <td>756</td>\n",
       "    </tr>\n",
       "  </tbody>\n",
       "</table>\n",
       "</div>"
      ],
      "text/plain": [
       "        date group  visits\n",
       "0 2019-08-01     A     719\n",
       "1 2019-08-02     A     619\n",
       "2 2019-08-03     A     507\n",
       "3 2019-08-04     A     717\n",
       "4 2019-08-05     A     756"
      ]
     },
     "execution_count": 14,
     "metadata": {},
     "output_type": "execute_result"
    }
   ],
   "source": [
    "#Explorer data\n",
    "visits.head()"
   ]
  },
  {
   "cell_type": "code",
   "execution_count": 15,
   "metadata": {},
   "outputs": [
    {
     "data": {
      "text/html": [
       "<div>\n",
       "<style scoped>\n",
       "    .dataframe tbody tr th:only-of-type {\n",
       "        vertical-align: middle;\n",
       "    }\n",
       "\n",
       "    .dataframe tbody tr th {\n",
       "        vertical-align: top;\n",
       "    }\n",
       "\n",
       "    .dataframe thead th {\n",
       "        text-align: right;\n",
       "    }\n",
       "</style>\n",
       "<table border=\"1\" class=\"dataframe\">\n",
       "  <thead>\n",
       "    <tr style=\"text-align: right;\">\n",
       "      <th></th>\n",
       "      <th>group</th>\n",
       "    </tr>\n",
       "  </thead>\n",
       "  <tbody>\n",
       "    <tr>\n",
       "      <td>count</td>\n",
       "      <td>62</td>\n",
       "    </tr>\n",
       "    <tr>\n",
       "      <td>unique</td>\n",
       "      <td>2</td>\n",
       "    </tr>\n",
       "    <tr>\n",
       "      <td>top</td>\n",
       "      <td>B</td>\n",
       "    </tr>\n",
       "    <tr>\n",
       "      <td>freq</td>\n",
       "      <td>31</td>\n",
       "    </tr>\n",
       "  </tbody>\n",
       "</table>\n",
       "</div>"
      ],
      "text/plain": [
       "       group\n",
       "count     62\n",
       "unique     2\n",
       "top        B\n",
       "freq      31"
      ]
     },
     "execution_count": 15,
     "metadata": {},
     "output_type": "execute_result"
    }
   ],
   "source": [
    "#Explorer data\n",
    "visits.describe(include = ['object'])"
   ]
  },
  {
   "cell_type": "code",
   "execution_count": 16,
   "metadata": {},
   "outputs": [
    {
     "name": "stdout",
     "output_type": "stream",
     "text": [
      "<class 'pandas.core.frame.DataFrame'>\n",
      "RangeIndex: 62 entries, 0 to 61\n",
      "Data columns (total 3 columns):\n",
      "date      62 non-null datetime64[ns]\n",
      "group     62 non-null object\n",
      "visits    62 non-null int64\n",
      "dtypes: datetime64[ns](1), int64(1), object(1)\n",
      "memory usage: 1.6+ KB\n"
     ]
    }
   ],
   "source": [
    "visits.info()"
   ]
  },
  {
   "cell_type": "markdown",
   "metadata": {},
   "source": [
    "All data types are correct"
   ]
  },
  {
   "cell_type": "code",
   "execution_count": 17,
   "metadata": {},
   "outputs": [
    {
     "data": {
      "text/plain": [
       "0"
      ]
     },
     "execution_count": 17,
     "metadata": {},
     "output_type": "execute_result"
    }
   ],
   "source": [
    "#Check for duplicates\n",
    "visits.duplicated().sum()"
   ]
  },
  {
   "cell_type": "markdown",
   "metadata": {},
   "source": [
    "There are no duplicated rows in visits table"
   ]
  },
  {
   "cell_type": "markdown",
   "metadata": {},
   "source": [
    "### Conclusion"
   ]
  },
  {
   "cell_type": "markdown",
   "metadata": {},
   "source": [
    "- All data types are in the correct form.\n",
    "- There are no duplicates in data.\n",
    "- There are 58 users that Associated to both groups.We removed them \n",
    "- we got groups with different sizes <br>\n",
    "  we are given a ready-made A/B dataset<br>\n",
    "  There is no other option  than work with this dataset"
   ]
  },
  {
   "cell_type": "markdown",
   "metadata": {},
   "source": [
    "## Prioritizing Hypotheses"
   ]
  },
  {
   "cell_type": "markdown",
   "metadata": {},
   "source": [
    "###  Apply the ICE framework to prioritize hypotheses"
   ]
  },
  {
   "cell_type": "code",
   "execution_count": 18,
   "metadata": {},
   "outputs": [
    {
     "data": {
      "text/html": [
       "<div>\n",
       "<style scoped>\n",
       "    .dataframe tbody tr th:only-of-type {\n",
       "        vertical-align: middle;\n",
       "    }\n",
       "\n",
       "    .dataframe tbody tr th {\n",
       "        vertical-align: top;\n",
       "    }\n",
       "\n",
       "    .dataframe thead th {\n",
       "        text-align: right;\n",
       "    }\n",
       "</style>\n",
       "<table border=\"1\" class=\"dataframe\">\n",
       "  <thead>\n",
       "    <tr style=\"text-align: right;\">\n",
       "      <th></th>\n",
       "      <th>Hypothesis</th>\n",
       "      <th>Reach</th>\n",
       "      <th>Impact</th>\n",
       "      <th>Confidence</th>\n",
       "      <th>Effort</th>\n",
       "    </tr>\n",
       "  </thead>\n",
       "  <tbody>\n",
       "    <tr>\n",
       "      <td>0</td>\n",
       "      <td>Add two new channels for attracting traffic. This will bring 30% more users</td>\n",
       "      <td>3</td>\n",
       "      <td>10</td>\n",
       "      <td>8</td>\n",
       "      <td>6</td>\n",
       "    </tr>\n",
       "    <tr>\n",
       "      <td>1</td>\n",
       "      <td>Launch your own delivery service. This will shorten delivery time</td>\n",
       "      <td>2</td>\n",
       "      <td>5</td>\n",
       "      <td>4</td>\n",
       "      <td>10</td>\n",
       "    </tr>\n",
       "    <tr>\n",
       "      <td>2</td>\n",
       "      <td>Add product recommendation blocks to the store's site. This will increase conversion and average purchase size</td>\n",
       "      <td>8</td>\n",
       "      <td>3</td>\n",
       "      <td>7</td>\n",
       "      <td>3</td>\n",
       "    </tr>\n",
       "    <tr>\n",
       "      <td>3</td>\n",
       "      <td>Change the category structure. This will increase conversion since users will find the products they want more quickly</td>\n",
       "      <td>8</td>\n",
       "      <td>3</td>\n",
       "      <td>3</td>\n",
       "      <td>8</td>\n",
       "    </tr>\n",
       "    <tr>\n",
       "      <td>4</td>\n",
       "      <td>Change the background color on the main page. This will increase user engagement</td>\n",
       "      <td>3</td>\n",
       "      <td>1</td>\n",
       "      <td>1</td>\n",
       "      <td>1</td>\n",
       "    </tr>\n",
       "    <tr>\n",
       "      <td>5</td>\n",
       "      <td>Add a customer review page. This will increase the number of orders</td>\n",
       "      <td>3</td>\n",
       "      <td>2</td>\n",
       "      <td>2</td>\n",
       "      <td>3</td>\n",
       "    </tr>\n",
       "    <tr>\n",
       "      <td>6</td>\n",
       "      <td>Show banners with current offers and sales on the main page. This will boost conversion</td>\n",
       "      <td>5</td>\n",
       "      <td>3</td>\n",
       "      <td>8</td>\n",
       "      <td>3</td>\n",
       "    </tr>\n",
       "    <tr>\n",
       "      <td>7</td>\n",
       "      <td>Add a subscription form to all the main pages. This will help you compile a mailing list</td>\n",
       "      <td>10</td>\n",
       "      <td>7</td>\n",
       "      <td>8</td>\n",
       "      <td>5</td>\n",
       "    </tr>\n",
       "    <tr>\n",
       "      <td>8</td>\n",
       "      <td>Launch a promotion that gives users discounts on their birthdays</td>\n",
       "      <td>1</td>\n",
       "      <td>9</td>\n",
       "      <td>9</td>\n",
       "      <td>5</td>\n",
       "    </tr>\n",
       "  </tbody>\n",
       "</table>\n",
       "</div>"
      ],
      "text/plain": [
       "                                                                                                               Hypothesis  Reach  Impact  Confidence  Effort\n",
       "0                                             Add two new channels for attracting traffic. This will bring 30% more users      3      10           8       6\n",
       "1                                                       Launch your own delivery service. This will shorten delivery time      2       5           4      10\n",
       "2          Add product recommendation blocks to the store's site. This will increase conversion and average purchase size      8       3           7       3\n",
       "3  Change the category structure. This will increase conversion since users will find the products they want more quickly      8       3           3       8\n",
       "4                                        Change the background color on the main page. This will increase user engagement      3       1           1       1\n",
       "5                                                     Add a customer review page. This will increase the number of orders      3       2           2       3\n",
       "6                                 Show banners with current offers and sales on the main page. This will boost conversion      5       3           8       3\n",
       "7                                Add a subscription form to all the main pages. This will help you compile a mailing list     10       7           8       5\n",
       "8                                                        Launch a promotion that gives users discounts on their birthdays      1       9           9       5"
      ]
     },
     "execution_count": 18,
     "metadata": {},
     "output_type": "execute_result"
    }
   ],
   "source": [
    "hypotheses"
   ]
  },
  {
   "cell_type": "code",
   "execution_count": 19,
   "metadata": {},
   "outputs": [
    {
     "data": {
      "text/html": [
       "<div>\n",
       "<style scoped>\n",
       "    .dataframe tbody tr th:only-of-type {\n",
       "        vertical-align: middle;\n",
       "    }\n",
       "\n",
       "    .dataframe tbody tr th {\n",
       "        vertical-align: top;\n",
       "    }\n",
       "\n",
       "    .dataframe thead th {\n",
       "        text-align: right;\n",
       "    }\n",
       "</style>\n",
       "<table border=\"1\" class=\"dataframe\">\n",
       "  <thead>\n",
       "    <tr style=\"text-align: right;\">\n",
       "      <th></th>\n",
       "      <th>Hypothesis</th>\n",
       "      <th>Reach</th>\n",
       "      <th>Impact</th>\n",
       "      <th>Confidence</th>\n",
       "      <th>Effort</th>\n",
       "      <th>ICE</th>\n",
       "    </tr>\n",
       "  </thead>\n",
       "  <tbody>\n",
       "    <tr>\n",
       "      <td>8</td>\n",
       "      <td>Launch a promotion that gives users discounts on their birthdays</td>\n",
       "      <td>1</td>\n",
       "      <td>9</td>\n",
       "      <td>9</td>\n",
       "      <td>5</td>\n",
       "      <td>16.200000</td>\n",
       "    </tr>\n",
       "    <tr>\n",
       "      <td>0</td>\n",
       "      <td>Add two new channels for attracting traffic. This will bring 30% more users</td>\n",
       "      <td>3</td>\n",
       "      <td>10</td>\n",
       "      <td>8</td>\n",
       "      <td>6</td>\n",
       "      <td>13.333333</td>\n",
       "    </tr>\n",
       "    <tr>\n",
       "      <td>7</td>\n",
       "      <td>Add a subscription form to all the main pages. This will help you compile a mailing list</td>\n",
       "      <td>10</td>\n",
       "      <td>7</td>\n",
       "      <td>8</td>\n",
       "      <td>5</td>\n",
       "      <td>11.200000</td>\n",
       "    </tr>\n",
       "    <tr>\n",
       "      <td>6</td>\n",
       "      <td>Show banners with current offers and sales on the main page. This will boost conversion</td>\n",
       "      <td>5</td>\n",
       "      <td>3</td>\n",
       "      <td>8</td>\n",
       "      <td>3</td>\n",
       "      <td>8.000000</td>\n",
       "    </tr>\n",
       "    <tr>\n",
       "      <td>2</td>\n",
       "      <td>Add product recommendation blocks to the store's site. This will increase conversion and average purchase size</td>\n",
       "      <td>8</td>\n",
       "      <td>3</td>\n",
       "      <td>7</td>\n",
       "      <td>3</td>\n",
       "      <td>7.000000</td>\n",
       "    </tr>\n",
       "    <tr>\n",
       "      <td>1</td>\n",
       "      <td>Launch your own delivery service. This will shorten delivery time</td>\n",
       "      <td>2</td>\n",
       "      <td>5</td>\n",
       "      <td>4</td>\n",
       "      <td>10</td>\n",
       "      <td>2.000000</td>\n",
       "    </tr>\n",
       "    <tr>\n",
       "      <td>5</td>\n",
       "      <td>Add a customer review page. This will increase the number of orders</td>\n",
       "      <td>3</td>\n",
       "      <td>2</td>\n",
       "      <td>2</td>\n",
       "      <td>3</td>\n",
       "      <td>1.333333</td>\n",
       "    </tr>\n",
       "    <tr>\n",
       "      <td>3</td>\n",
       "      <td>Change the category structure. This will increase conversion since users will find the products they want more quickly</td>\n",
       "      <td>8</td>\n",
       "      <td>3</td>\n",
       "      <td>3</td>\n",
       "      <td>8</td>\n",
       "      <td>1.125000</td>\n",
       "    </tr>\n",
       "    <tr>\n",
       "      <td>4</td>\n",
       "      <td>Change the background color on the main page. This will increase user engagement</td>\n",
       "      <td>3</td>\n",
       "      <td>1</td>\n",
       "      <td>1</td>\n",
       "      <td>1</td>\n",
       "      <td>1.000000</td>\n",
       "    </tr>\n",
       "  </tbody>\n",
       "</table>\n",
       "</div>"
      ],
      "text/plain": [
       "                                                                                                               Hypothesis  Reach  Impact  Confidence  Effort        ICE\n",
       "8                                                        Launch a promotion that gives users discounts on their birthdays      1       9           9       5  16.200000\n",
       "0                                             Add two new channels for attracting traffic. This will bring 30% more users      3      10           8       6  13.333333\n",
       "7                                Add a subscription form to all the main pages. This will help you compile a mailing list     10       7           8       5  11.200000\n",
       "6                                 Show banners with current offers and sales on the main page. This will boost conversion      5       3           8       3   8.000000\n",
       "2          Add product recommendation blocks to the store's site. This will increase conversion and average purchase size      8       3           7       3   7.000000\n",
       "1                                                       Launch your own delivery service. This will shorten delivery time      2       5           4      10   2.000000\n",
       "5                                                     Add a customer review page. This will increase the number of orders      3       2           2       3   1.333333\n",
       "3  Change the category structure. This will increase conversion since users will find the products they want more quickly      8       3           3       8   1.125000\n",
       "4                                        Change the background color on the main page. This will increase user engagement      3       1           1       1   1.000000"
      ]
     },
     "execution_count": 19,
     "metadata": {},
     "output_type": "execute_result"
    }
   ],
   "source": [
    "#Calculate ICE\n",
    "hypotheses['ICE'] = hypotheses['Impact'] * hypotheses['Confidence'] / hypotheses['Effort']\n",
    "hypotheses.sort_values(by='ICE', ascending=False,inplace=True)\n",
    "hypotheses"
   ]
  },
  {
   "cell_type": "markdown",
   "metadata": {},
   "source": [
    "### Apply the RICE framework to prioritize hypotheses"
   ]
  },
  {
   "cell_type": "code",
   "execution_count": 20,
   "metadata": {},
   "outputs": [
    {
     "data": {
      "text/html": [
       "<div>\n",
       "<style scoped>\n",
       "    .dataframe tbody tr th:only-of-type {\n",
       "        vertical-align: middle;\n",
       "    }\n",
       "\n",
       "    .dataframe tbody tr th {\n",
       "        vertical-align: top;\n",
       "    }\n",
       "\n",
       "    .dataframe thead th {\n",
       "        text-align: right;\n",
       "    }\n",
       "</style>\n",
       "<table border=\"1\" class=\"dataframe\">\n",
       "  <thead>\n",
       "    <tr style=\"text-align: right;\">\n",
       "      <th></th>\n",
       "      <th>Hypothesis</th>\n",
       "      <th>Reach</th>\n",
       "      <th>Impact</th>\n",
       "      <th>Confidence</th>\n",
       "      <th>Effort</th>\n",
       "      <th>ICE</th>\n",
       "      <th>RICE</th>\n",
       "    </tr>\n",
       "  </thead>\n",
       "  <tbody>\n",
       "    <tr>\n",
       "      <td>7</td>\n",
       "      <td>Add a subscription form to all the main pages. This will help you compile a mailing list</td>\n",
       "      <td>10</td>\n",
       "      <td>7</td>\n",
       "      <td>8</td>\n",
       "      <td>5</td>\n",
       "      <td>11.200000</td>\n",
       "      <td>112.0</td>\n",
       "    </tr>\n",
       "    <tr>\n",
       "      <td>2</td>\n",
       "      <td>Add product recommendation blocks to the store's site. This will increase conversion and average purchase size</td>\n",
       "      <td>8</td>\n",
       "      <td>3</td>\n",
       "      <td>7</td>\n",
       "      <td>3</td>\n",
       "      <td>7.000000</td>\n",
       "      <td>56.0</td>\n",
       "    </tr>\n",
       "    <tr>\n",
       "      <td>0</td>\n",
       "      <td>Add two new channels for attracting traffic. This will bring 30% more users</td>\n",
       "      <td>3</td>\n",
       "      <td>10</td>\n",
       "      <td>8</td>\n",
       "      <td>6</td>\n",
       "      <td>13.333333</td>\n",
       "      <td>40.0</td>\n",
       "    </tr>\n",
       "    <tr>\n",
       "      <td>6</td>\n",
       "      <td>Show banners with current offers and sales on the main page. This will boost conversion</td>\n",
       "      <td>5</td>\n",
       "      <td>3</td>\n",
       "      <td>8</td>\n",
       "      <td>3</td>\n",
       "      <td>8.000000</td>\n",
       "      <td>40.0</td>\n",
       "    </tr>\n",
       "    <tr>\n",
       "      <td>8</td>\n",
       "      <td>Launch a promotion that gives users discounts on their birthdays</td>\n",
       "      <td>1</td>\n",
       "      <td>9</td>\n",
       "      <td>9</td>\n",
       "      <td>5</td>\n",
       "      <td>16.200000</td>\n",
       "      <td>16.2</td>\n",
       "    </tr>\n",
       "    <tr>\n",
       "      <td>3</td>\n",
       "      <td>Change the category structure. This will increase conversion since users will find the products they want more quickly</td>\n",
       "      <td>8</td>\n",
       "      <td>3</td>\n",
       "      <td>3</td>\n",
       "      <td>8</td>\n",
       "      <td>1.125000</td>\n",
       "      <td>9.0</td>\n",
       "    </tr>\n",
       "    <tr>\n",
       "      <td>1</td>\n",
       "      <td>Launch your own delivery service. This will shorten delivery time</td>\n",
       "      <td>2</td>\n",
       "      <td>5</td>\n",
       "      <td>4</td>\n",
       "      <td>10</td>\n",
       "      <td>2.000000</td>\n",
       "      <td>4.0</td>\n",
       "    </tr>\n",
       "    <tr>\n",
       "      <td>5</td>\n",
       "      <td>Add a customer review page. This will increase the number of orders</td>\n",
       "      <td>3</td>\n",
       "      <td>2</td>\n",
       "      <td>2</td>\n",
       "      <td>3</td>\n",
       "      <td>1.333333</td>\n",
       "      <td>4.0</td>\n",
       "    </tr>\n",
       "    <tr>\n",
       "      <td>4</td>\n",
       "      <td>Change the background color on the main page. This will increase user engagement</td>\n",
       "      <td>3</td>\n",
       "      <td>1</td>\n",
       "      <td>1</td>\n",
       "      <td>1</td>\n",
       "      <td>1.000000</td>\n",
       "      <td>3.0</td>\n",
       "    </tr>\n",
       "  </tbody>\n",
       "</table>\n",
       "</div>"
      ],
      "text/plain": [
       "                                                                                                               Hypothesis  Reach  Impact  Confidence  Effort        ICE   RICE\n",
       "7                                Add a subscription form to all the main pages. This will help you compile a mailing list     10       7           8       5  11.200000  112.0\n",
       "2          Add product recommendation blocks to the store's site. This will increase conversion and average purchase size      8       3           7       3   7.000000   56.0\n",
       "0                                             Add two new channels for attracting traffic. This will bring 30% more users      3      10           8       6  13.333333   40.0\n",
       "6                                 Show banners with current offers and sales on the main page. This will boost conversion      5       3           8       3   8.000000   40.0\n",
       "8                                                        Launch a promotion that gives users discounts on their birthdays      1       9           9       5  16.200000   16.2\n",
       "3  Change the category structure. This will increase conversion since users will find the products they want more quickly      8       3           3       8   1.125000    9.0\n",
       "1                                                       Launch your own delivery service. This will shorten delivery time      2       5           4      10   2.000000    4.0\n",
       "5                                                     Add a customer review page. This will increase the number of orders      3       2           2       3   1.333333    4.0\n",
       "4                                        Change the background color on the main page. This will increase user engagement      3       1           1       1   1.000000    3.0"
      ]
     },
     "execution_count": 20,
     "metadata": {},
     "output_type": "execute_result"
    }
   ],
   "source": [
    "#Calculate RICE\n",
    "hypotheses['RICE'] = hypotheses['Reach'] * hypotheses['Impact'] * hypotheses['Confidence'] / hypotheses['Effort']\n",
    "hypotheses.sort_values(by='RICE', ascending=False,inplace=True)\n",
    "hypotheses"
   ]
  },
  {
   "cell_type": "markdown",
   "metadata": {},
   "source": [
    "###  Show how the prioritization of hypotheses changes when you use RICE instead of ICE"
   ]
  },
  {
   "cell_type": "code",
   "execution_count": 21,
   "metadata": {},
   "outputs": [
    {
     "data": {
      "text/html": [
       "<div>\n",
       "<style scoped>\n",
       "    .dataframe tbody tr th:only-of-type {\n",
       "        vertical-align: middle;\n",
       "    }\n",
       "\n",
       "    .dataframe tbody tr th {\n",
       "        vertical-align: top;\n",
       "    }\n",
       "\n",
       "    .dataframe thead th {\n",
       "        text-align: right;\n",
       "    }\n",
       "</style>\n",
       "<table border=\"1\" class=\"dataframe\">\n",
       "  <thead>\n",
       "    <tr style=\"text-align: right;\">\n",
       "      <th></th>\n",
       "      <th>Hypothesis</th>\n",
       "      <th>Reach</th>\n",
       "      <th>Impact</th>\n",
       "      <th>Confidence</th>\n",
       "      <th>Effort</th>\n",
       "      <th>ICE</th>\n",
       "      <th>RICE</th>\n",
       "      <th>ICE_index</th>\n",
       "      <th>RICE_index</th>\n",
       "    </tr>\n",
       "  </thead>\n",
       "  <tbody>\n",
       "    <tr>\n",
       "      <td>7</td>\n",
       "      <td>Add a subscription form to all the main pages. This will help you compile a mailing list</td>\n",
       "      <td>10</td>\n",
       "      <td>7</td>\n",
       "      <td>8</td>\n",
       "      <td>5</td>\n",
       "      <td>11.200000</td>\n",
       "      <td>112.0</td>\n",
       "      <td>2</td>\n",
       "      <td>0</td>\n",
       "    </tr>\n",
       "    <tr>\n",
       "      <td>2</td>\n",
       "      <td>Add product recommendation blocks to the store's site. This will increase conversion and average purchase size</td>\n",
       "      <td>8</td>\n",
       "      <td>3</td>\n",
       "      <td>7</td>\n",
       "      <td>3</td>\n",
       "      <td>7.000000</td>\n",
       "      <td>56.0</td>\n",
       "      <td>4</td>\n",
       "      <td>1</td>\n",
       "    </tr>\n",
       "    <tr>\n",
       "      <td>0</td>\n",
       "      <td>Add two new channels for attracting traffic. This will bring 30% more users</td>\n",
       "      <td>3</td>\n",
       "      <td>10</td>\n",
       "      <td>8</td>\n",
       "      <td>6</td>\n",
       "      <td>13.333333</td>\n",
       "      <td>40.0</td>\n",
       "      <td>1</td>\n",
       "      <td>2</td>\n",
       "    </tr>\n",
       "    <tr>\n",
       "      <td>6</td>\n",
       "      <td>Show banners with current offers and sales on the main page. This will boost conversion</td>\n",
       "      <td>5</td>\n",
       "      <td>3</td>\n",
       "      <td>8</td>\n",
       "      <td>3</td>\n",
       "      <td>8.000000</td>\n",
       "      <td>40.0</td>\n",
       "      <td>3</td>\n",
       "      <td>3</td>\n",
       "    </tr>\n",
       "    <tr>\n",
       "      <td>8</td>\n",
       "      <td>Launch a promotion that gives users discounts on their birthdays</td>\n",
       "      <td>1</td>\n",
       "      <td>9</td>\n",
       "      <td>9</td>\n",
       "      <td>5</td>\n",
       "      <td>16.200000</td>\n",
       "      <td>16.2</td>\n",
       "      <td>0</td>\n",
       "      <td>4</td>\n",
       "    </tr>\n",
       "    <tr>\n",
       "      <td>3</td>\n",
       "      <td>Change the category structure. This will increase conversion since users will find the products they want more quickly</td>\n",
       "      <td>8</td>\n",
       "      <td>3</td>\n",
       "      <td>3</td>\n",
       "      <td>8</td>\n",
       "      <td>1.125000</td>\n",
       "      <td>9.0</td>\n",
       "      <td>7</td>\n",
       "      <td>5</td>\n",
       "    </tr>\n",
       "    <tr>\n",
       "      <td>1</td>\n",
       "      <td>Launch your own delivery service. This will shorten delivery time</td>\n",
       "      <td>2</td>\n",
       "      <td>5</td>\n",
       "      <td>4</td>\n",
       "      <td>10</td>\n",
       "      <td>2.000000</td>\n",
       "      <td>4.0</td>\n",
       "      <td>5</td>\n",
       "      <td>6</td>\n",
       "    </tr>\n",
       "    <tr>\n",
       "      <td>5</td>\n",
       "      <td>Add a customer review page. This will increase the number of orders</td>\n",
       "      <td>3</td>\n",
       "      <td>2</td>\n",
       "      <td>2</td>\n",
       "      <td>3</td>\n",
       "      <td>1.333333</td>\n",
       "      <td>4.0</td>\n",
       "      <td>6</td>\n",
       "      <td>7</td>\n",
       "    </tr>\n",
       "    <tr>\n",
       "      <td>4</td>\n",
       "      <td>Change the background color on the main page. This will increase user engagement</td>\n",
       "      <td>3</td>\n",
       "      <td>1</td>\n",
       "      <td>1</td>\n",
       "      <td>1</td>\n",
       "      <td>1.000000</td>\n",
       "      <td>3.0</td>\n",
       "      <td>8</td>\n",
       "      <td>8</td>\n",
       "    </tr>\n",
       "  </tbody>\n",
       "</table>\n",
       "</div>"
      ],
      "text/plain": [
       "                                                                                                               Hypothesis  Reach  Impact  Confidence  Effort        ICE   RICE  ICE_index  RICE_index\n",
       "7                                Add a subscription form to all the main pages. This will help you compile a mailing list     10       7           8       5  11.200000  112.0          2           0\n",
       "2          Add product recommendation blocks to the store's site. This will increase conversion and average purchase size      8       3           7       3   7.000000   56.0          4           1\n",
       "0                                             Add two new channels for attracting traffic. This will bring 30% more users      3      10           8       6  13.333333   40.0          1           2\n",
       "6                                 Show banners with current offers and sales on the main page. This will boost conversion      5       3           8       3   8.000000   40.0          3           3\n",
       "8                                                        Launch a promotion that gives users discounts on their birthdays      1       9           9       5  16.200000   16.2          0           4\n",
       "3  Change the category structure. This will increase conversion since users will find the products they want more quickly      8       3           3       8   1.125000    9.0          7           5\n",
       "1                                                       Launch your own delivery service. This will shorten delivery time      2       5           4      10   2.000000    4.0          5           6\n",
       "5                                                     Add a customer review page. This will increase the number of orders      3       2           2       3   1.333333    4.0          6           7\n",
       "4                                        Change the background color on the main page. This will increase user engagement      3       1           1       1   1.000000    3.0          8           8"
      ]
     },
     "execution_count": 21,
     "metadata": {},
     "output_type": "execute_result"
    }
   ],
   "source": [
    "#Calc ICE_index\n",
    "hypotheses  =  hypotheses.sort_values(by='ICE',ascending=False)\n",
    "hypotheses['ICE_index']  =  hypotheses.reset_index().index\n",
    "#Calc RICE_index\n",
    "hypotheses  =  hypotheses.sort_values(by='RICE',ascending=False)\n",
    "hypotheses['RICE_index'] = hypotheses.reset_index().index\n",
    "\n",
    "hypotheses"
   ]
  },
  {
   "cell_type": "code",
   "execution_count": 22,
   "metadata": {},
   "outputs": [
    {
     "data": {
      "image/png": "[encoded data removed]",
      "text/plain": [
       "<Figure size 432x288 with 1 Axes>"
      ]
     },
     "metadata": {
      "needs_background": "light"
     },
     "output_type": "display_data"
    }
   ],
   "source": [
    "plt.scatter(hypotheses.index, hypotheses['ICE_index'], label='ICE') \n",
    "plt.scatter(hypotheses.index, hypotheses['RICE_index'], label='RICE') \n",
    "plt.title(\"RICE VS ICE prioritization\")\n",
    "plt.xlabel(\"Hypothesis number\")\n",
    "plt.ylabel(\"RICE & ICE prioritization\")\n",
    "plt.legend();"
   ]
  },
  {
   "cell_type": "markdown",
   "metadata": {},
   "source": [
    "- We can see that the 'Reach' parameter changed the prioritization of the hypotheses.\n",
    "- hypotheses with low ICE got high value of 'Reach'(hypothese no.2) and got high prioritization.\n",
    "- hypotheses with high ICE got low value of 'Reach'(hypothese no.8) and got low prioritization.\n",
    "- hypotheses 4,6 remaind with the same prioritization"
   ]
  },
  {
   "cell_type": "markdown",
   "metadata": {},
   "source": [
    "## Part 2. A/B Test Analysis"
   ]
  },
  {
   "cell_type": "markdown",
   "metadata": {},
   "source": [
    "### Graph cumulative revenue by group. Make conclusions and conjectures."
   ]
  },
  {
   "cell_type": "code",
   "execution_count": 23,
   "metadata": {},
   "outputs": [
    {
     "name": "stderr",
     "output_type": "stream",
     "text": [
      "/opt/conda/lib/python3.7/site-packages/pandas/plotting/_matplotlib/converter.py:103: FutureWarning:\n",
      "\n",
      "Using an implicitly registered datetime converter for a matplotlib plotting method. The converter was registered by pandas on import. Future versions of pandas will require you to explicitly register matplotlib converters.\n",
      "\n",
      "To register the converters:\n",
      "\t>>> from pandas.plotting import register_matplotlib_converters\n",
      "\t>>> register_matplotlib_converters()\n",
      "\n"
     ]
    },
    {
     "data": {
      "image/png": "[encoded data removed]",
      "text/plain": [
       "<Figure size 432x288 with 1 Axes>"
      ]
     },
     "metadata": {
      "needs_background": "light"
     },
     "output_type": "display_data"
    }
   ],
   "source": [
    "# building an array with unique paired date-group values\n",
    "datesGroups = orders[['date','group']].drop_duplicates()\n",
    "\n",
    "# getting aggregated cumulative daily data on orders \n",
    "ordersAggregated = datesGroups.apply(lambda x: orders[np.logical_and(orders['date'] <= x['date'], orders['group'] == x['group'])].agg({'date' : 'max', 'group' : 'max', 'transactionId' : pd.Series.nunique, 'visitorId' : pd.Series.nunique, 'revenue' : 'sum'}), axis=1).sort_values(by=['date','group'])\n",
    "\n",
    "# getting aggregated cumulative daily data on visits  \n",
    "visitsAggregated = datesGroups.apply(lambda x: visits[np.logical_and(visits['date'] <= x['date'], visits['group'] == x['group'])].agg({'date' : 'max', 'group' : 'max', 'visits' : 'sum'}), axis=1).sort_values(by=['date','group'])\n",
    "\n",
    "# merging the two tables into one and giving its columns descriptive names\n",
    "cumulativeData = ordersAggregated.merge(visitsAggregated, left_on=['date', 'group'], right_on=['date', 'group'])\n",
    "cumulativeData.columns = ['date', 'group', 'orders', 'buyers', 'revenue', 'visits']\n",
    "# DataFrame with cumulative orders and cumulative revenue by day, group A\n",
    "cumulativeRevenueA = cumulativeData[cumulativeData['group']=='A'][['date','revenue', 'orders']]\n",
    "\n",
    "# DataFrame with cumulative orders and cumulative revenue by day, group B\n",
    "cumulativeRevenueB = cumulativeData[cumulativeData['group']=='B'][['date','revenue', 'orders']]\n",
    "\n",
    "# Plotting the group A revenue graph \n",
    "plt.plot(cumulativeRevenueA['date'], cumulativeRevenueA['revenue'], label='A')\n",
    "\n",
    "# Plotting the group B revenue graph \n",
    "plt.plot(cumulativeRevenueB['date'], cumulativeRevenueB['revenue'], label='B')\n",
    "plt.title(\"cumulative revenue by group\")\n",
    "plt.xlabel(\"date\")\n",
    "plt.ylabel(\"revenue\")\n",
    "plt.ylabel('Revenue')\n",
    "plt.xticks(rotation=30)\n",
    "plt.legend();"
   ]
  },
  {
   "cell_type": "markdown",
   "metadata": {},
   "source": [
    "- Revenue is rising steadily.\n",
    "- Both groups have spikes in revenue at certain points. This may imply either a surge in the number of orders or the presence of very expensive orders."
   ]
  },
  {
   "cell_type": "markdown",
   "metadata": {},
   "source": [
    "### Graph cumulative average order size by group. Make conclusions and conjectures"
   ]
  },
  {
   "cell_type": "code",
   "execution_count": 24,
   "metadata": {},
   "outputs": [
    {
     "data": {
      "image/png": "[encoded data removed]",
      "text/plain": [
       "<Figure size 432x288 with 1 Axes>"
      ]
     },
     "metadata": {
      "needs_background": "light"
     },
     "output_type": "display_data"
    }
   ],
   "source": [
    "plt.plot(cumulativeRevenueA['date'], cumulativeRevenueA['revenue']/cumulativeRevenueA['orders'], label='A')\n",
    "plt.plot(cumulativeRevenueB['date'], cumulativeRevenueB['revenue']/cumulativeRevenueB['orders'], label='B')\n",
    "plt.title(\"cumulative average order size by group\")\n",
    "plt.xlabel(\"date\")\n",
    "plt.ylabel(\"size\")\n",
    "plt.xticks(rotation=30)\n",
    "plt.legend();"
   ]
  },
  {
   "cell_type": "markdown",
   "metadata": {},
   "source": [
    "- Average purchase size becomes steady by the end of the test.\n",
    "- The surge in group B in the 2 peeks of the test may have been due to the presence of large, expensive orders."
   ]
  },
  {
   "cell_type": "markdown",
   "metadata": {},
   "source": [
    "###  Graph the relative difference in cumulative average order size for group B compared with group A. Make conclusions and conjectures.\n"
   ]
  },
  {
   "cell_type": "code",
   "execution_count": 25,
   "metadata": {},
   "outputs": [
    {
     "data": {
      "image/png": "[encoded data removed]",
      "text/plain": [
       "<Figure size 432x288 with 1 Axes>"
      ]
     },
     "metadata": {
      "needs_background": "light"
     },
     "output_type": "display_data"
    }
   ],
   "source": [
    "# gathering the data into one DataFrame\n",
    "mergedCumulativeRevenue = cumulativeRevenueA.merge\\\n",
    "                            (cumulativeRevenueB, left_on='date', right_on='date', how='left', suffixes=['A', 'B'])\n",
    "\n",
    "# plotting a relative difference graph for the average purchase sizes\n",
    "plt.plot(mergedCumulativeRevenue['date'], \n",
    "         (mergedCumulativeRevenue['revenueB']/mergedCumulativeRevenue['ordersB'])\\\n",
    "         /(mergedCumulativeRevenue['revenueA']/mergedCumulativeRevenue['ordersA'])-1) \n",
    "plt.title(\"relative difference in cumulative average order size\")\n",
    "plt.xlabel(\"date\")\n",
    "plt.ylabel(\"size\")\n",
    "plt.xticks(rotation=30)\n",
    "# adding the X axis\n",
    "plt.axhline(y=0, color='black', linestyle='--');"
   ]
  },
  {
   "cell_type": "markdown",
   "metadata": {},
   "source": [
    "- At several points the difference between the segments increaces.\n",
    "  This means there must be some big orders and outliers\n",
    "- group B  results are better and looks like it got stabilized"
   ]
  },
  {
   "cell_type": "markdown",
   "metadata": {},
   "source": [
    "### Calculate each group's conversion rate as the ratio of orders to the number of visits for each day. Plot the daily conversion rates of the two groups and describe the difference. Draw conclusions and make conjectures.\n"
   ]
  },
  {
   "cell_type": "code",
   "execution_count": 26,
   "metadata": {},
   "outputs": [
    {
     "data": {
      "image/png": "[encoded data removed]",
      "text/plain": [
       "<Figure size 432x288 with 1 Axes>"
      ]
     },
     "metadata": {
      "needs_background": "light"
     },
     "output_type": "display_data"
    }
   ],
   "source": [
    " #calculating cumulative conversion\n",
    "cumulativeData['conversion'] = cumulativeData['orders']/cumulativeData['visits']\n",
    "\n",
    "# selecting data on group A \n",
    "cumulativeDataA = cumulativeData[cumulativeData['group']=='A']\n",
    "\n",
    "# selecting data on group B\n",
    "cumulativeDataB = cumulativeData[cumulativeData['group']=='B']\n",
    "\n",
    "# plotting the graphs\n",
    "plt.plot(cumulativeDataA['date'], cumulativeDataA['conversion'], label='A')\n",
    "plt.plot(cumulativeDataB['date'], cumulativeDataB['conversion'], label='B')\n",
    "plt.title(\"conversion rate\")\n",
    "plt.xlabel(\"date\")\n",
    "plt.ylabel(\"conversion\")\n",
    "plt.xticks(rotation=30)\n",
    "plt.legend();"
   ]
  },
  {
   "cell_type": "markdown",
   "metadata": {},
   "source": [
    "- conversion rate of group A dropping and didnt yet stabilized.\n",
    "- conversion rate of group B rised and then dropped and then rised again didnt yet stabilized."
   ]
  },
  {
   "cell_type": "code",
   "execution_count": 27,
   "metadata": {},
   "outputs": [
    {
     "data": {
      "image/png": "[encoded data removed]",
      "text/plain": [
       "<Figure size 432x288 with 1 Axes>"
      ]
     },
     "metadata": {
      "needs_background": "light"
     },
     "output_type": "display_data"
    }
   ],
   "source": [
    "mergedCumulativeConversions = cumulativeDataA[['date','conversion']].merge(cumulativeDataB[['date','conversion']],\n",
    "                                                                           left_on='date', right_on='date',\n",
    "                                                                           how='left', suffixes=['A', 'B'])\n",
    "\n",
    "plt.plot(mergedCumulativeConversions['date'], mergedCumulativeConversions['conversionB']\\\n",
    "         /mergedCumulativeConversions['conversionA']-1,\n",
    "         label=\"Relative gain in conversion in group B as opposed to group A\")\n",
    "plt.legend()\n",
    "plt.title(\"relative difference in cumulative conversion\")\n",
    "plt.xlabel(\"date\")\n",
    "plt.ylabel(\"revenue\")\n",
    "plt.xticks(rotation=30)\n",
    "plt.axhline(y=0, color='black', linestyle='--')\n",
    "plt.axhline(y=-0.1, color='grey', linestyle='--');\n"
   ]
  },
  {
   "cell_type": "markdown",
   "metadata": {},
   "source": [
    "- The difference in conversion between the groups tells us that group B's results are better  and continues to be improving "
   ]
  },
  {
   "cell_type": "markdown",
   "metadata": {},
   "source": [
    "#### Conclusion"
   ]
  },
  {
   "cell_type": "markdown",
   "metadata": {},
   "source": [
    "- conversion rate of both group  didnt yet stabilized\n",
    "- The relative difference between the groups tells us that group B's results are better and continues to be improving,     but didnt yet stabilized.\n",
    "- It is to early to draw conclusions about the test. we need to continue the test and also analyze anomalies."
   ]
  },
  {
   "cell_type": "markdown",
   "metadata": {},
   "source": [
    "### Plot a scatter chart of the number of orders per user. Make conclusions and conjectures."
   ]
  },
  {
   "cell_type": "code",
   "execution_count": 28,
   "metadata": {},
   "outputs": [
    {
     "data": {
      "text/html": [
       "<div>\n",
       "<style scoped>\n",
       "    .dataframe tbody tr th:only-of-type {\n",
       "        vertical-align: middle;\n",
       "    }\n",
       "\n",
       "    .dataframe tbody tr th {\n",
       "        vertical-align: top;\n",
       "    }\n",
       "\n",
       "    .dataframe thead th {\n",
       "        text-align: right;\n",
       "    }\n",
       "</style>\n",
       "<table border=\"1\" class=\"dataframe\">\n",
       "  <thead>\n",
       "    <tr style=\"text-align: right;\">\n",
       "      <th></th>\n",
       "      <th>transactionId</th>\n",
       "      <th>visitorId</th>\n",
       "      <th>date</th>\n",
       "      <th>revenue</th>\n",
       "      <th>group</th>\n",
       "    </tr>\n",
       "  </thead>\n",
       "  <tbody>\n",
       "    <tr>\n",
       "      <td>920</td>\n",
       "      <td>3057892078</td>\n",
       "      <td>249864742</td>\n",
       "      <td>2019-08-21</td>\n",
       "      <td>90.1</td>\n",
       "      <td>B</td>\n",
       "    </tr>\n",
       "    <tr>\n",
       "      <td>120</td>\n",
       "      <td>1599526656</td>\n",
       "      <td>2273809679</td>\n",
       "      <td>2019-08-22</td>\n",
       "      <td>70.9</td>\n",
       "      <td>B</td>\n",
       "    </tr>\n",
       "    <tr>\n",
       "      <td>281</td>\n",
       "      <td>2330926120</td>\n",
       "      <td>1935367901</td>\n",
       "      <td>2019-08-18</td>\n",
       "      <td>20.4</td>\n",
       "      <td>A</td>\n",
       "    </tr>\n",
       "    <tr>\n",
       "      <td>417</td>\n",
       "      <td>2470267229</td>\n",
       "      <td>2274825520</td>\n",
       "      <td>2019-08-06</td>\n",
       "      <td>10.8</td>\n",
       "      <td>A</td>\n",
       "    </tr>\n",
       "    <tr>\n",
       "      <td>830</td>\n",
       "      <td>217480737</td>\n",
       "      <td>2846507753</td>\n",
       "      <td>2019-08-30</td>\n",
       "      <td>20.2</td>\n",
       "      <td>B</td>\n",
       "    </tr>\n",
       "  </tbody>\n",
       "</table>\n",
       "</div>"
      ],
      "text/plain": [
       "     transactionId   visitorId       date  revenue group\n",
       "920     3057892078   249864742 2019-08-21     90.1     B\n",
       "120     1599526656  2273809679 2019-08-22     70.9     B\n",
       "281     2330926120  1935367901 2019-08-18     20.4     A\n",
       "417     2470267229  2274825520 2019-08-06     10.8     A\n",
       "830      217480737  2846507753 2019-08-30     20.2     B"
      ]
     },
     "execution_count": 28,
     "metadata": {},
     "output_type": "execute_result"
    }
   ],
   "source": [
    "orders.sample(5)"
   ]
  },
  {
   "cell_type": "code",
   "execution_count": 29,
   "metadata": {},
   "outputs": [
    {
     "data": {
      "text/html": [
       "<div>\n",
       "<style scoped>\n",
       "    .dataframe tbody tr th:only-of-type {\n",
       "        vertical-align: middle;\n",
       "    }\n",
       "\n",
       "    .dataframe tbody tr th {\n",
       "        vertical-align: top;\n",
       "    }\n",
       "\n",
       "    .dataframe thead th {\n",
       "        text-align: right;\n",
       "    }\n",
       "</style>\n",
       "<table border=\"1\" class=\"dataframe\">\n",
       "  <thead>\n",
       "    <tr style=\"text-align: right;\">\n",
       "      <th></th>\n",
       "      <th>visitorId</th>\n",
       "      <th>num_of_orders</th>\n",
       "    </tr>\n",
       "  </thead>\n",
       "  <tbody>\n",
       "    <tr>\n",
       "      <td>967</td>\n",
       "      <td>4258103007</td>\n",
       "      <td>1</td>\n",
       "    </tr>\n",
       "    <tr>\n",
       "      <td>68</td>\n",
       "      <td>290022471</td>\n",
       "      <td>1</td>\n",
       "    </tr>\n",
       "    <tr>\n",
       "      <td>531</td>\n",
       "      <td>2308309101</td>\n",
       "      <td>1</td>\n",
       "    </tr>\n",
       "    <tr>\n",
       "      <td>39</td>\n",
       "      <td>187589092</td>\n",
       "      <td>1</td>\n",
       "    </tr>\n",
       "    <tr>\n",
       "      <td>401</td>\n",
       "      <td>1738775963</td>\n",
       "      <td>1</td>\n",
       "    </tr>\n",
       "  </tbody>\n",
       "</table>\n",
       "</div>"
      ],
      "text/plain": [
       "      visitorId  num_of_orders\n",
       "967  4258103007              1\n",
       "68    290022471              1\n",
       "531  2308309101              1\n",
       "39    187589092              1\n",
       "401  1738775963              1"
      ]
     },
     "execution_count": 29,
     "metadata": {},
     "output_type": "execute_result"
    }
   ],
   "source": [
    "# number of orders per user\n",
    "orders_per_user = orders.groupby('visitorId',as_index=False).agg({'transactionId':pd.Series.nunique})\n",
    "orders_per_user.columns = ['visitorId', 'num_of_orders']\n",
    "orders_per_user.sample(5)"
   ]
  },
  {
   "cell_type": "code",
   "execution_count": 30,
   "metadata": {},
   "outputs": [
    {
     "data": {
      "image/png": "[encoded data removed]",
      "text/plain": [
       "<Figure size 432x288 with 1 Axes>"
      ]
     },
     "metadata": {
      "needs_background": "light"
     },
     "output_type": "display_data"
    }
   ],
   "source": [
    "plt.scatter(orders_per_user.index, orders_per_user['num_of_orders'])\n",
    "plt.title(\"number of orders per user\")\n",
    "plt.xlabel(\"user index\")\n",
    "plt.ylabel(\"number of orders\");"
   ]
  },
  {
   "cell_type": "code",
   "execution_count": 31,
   "metadata": {},
   "outputs": [
    {
     "data": {
      "text/plain": [
       "1    937\n",
       "2     29\n",
       "3      7\n",
       "Name: num_of_orders, dtype: int64"
      ]
     },
     "execution_count": 31,
     "metadata": {},
     "output_type": "execute_result"
    }
   ],
   "source": [
    "orders_per_user['num_of_orders'].value_counts()"
   ]
  },
  {
   "cell_type": "markdown",
   "metadata": {},
   "source": [
    " - There are 29 users that made 2 orders\n",
    " - There ared 7 users that made 3 orders"
   ]
  },
  {
   "cell_type": "markdown",
   "metadata": {},
   "source": [
    "### Calculate the 95th and 99th percentiles for the number of orders per user. Define the point at which a data point becomes an anomaly.\n"
   ]
  },
  {
   "cell_type": "code",
   "execution_count": 32,
   "metadata": {},
   "outputs": [
    {
     "data": {
      "text/plain": [
       "array([1., 2.])"
      ]
     },
     "execution_count": 32,
     "metadata": {},
     "output_type": "execute_result"
    }
   ],
   "source": [
    "np.percentile(orders_per_user['num_of_orders'], [95, 99])"
   ]
  },
  {
   "cell_type": "markdown",
   "metadata": {},
   "source": [
    "- No more than 5% of users placed more than 1 orders\n",
    "- No more than 1% of users placed more than 2 orders\n",
    "- 2 orders is the point at which a data points becaomes an anomaly"
   ]
  },
  {
   "cell_type": "markdown",
   "metadata": {},
   "source": [
    "### Plot a scatter chart of order prices. Make conclusions and conjectures."
   ]
  },
  {
   "cell_type": "code",
   "execution_count": 33,
   "metadata": {},
   "outputs": [
    {
     "data": {
      "image/png": "[encoded data removed]",
      "text/plain": [
       "<Figure size 432x288 with 1 Axes>"
      ]
     },
     "metadata": {
      "needs_background": "light"
     },
     "output_type": "display_data"
    }
   ],
   "source": [
    "plt.scatter(orders.index, orders['revenue']) \n",
    "# there are 2 large outliers, because of then we cant see alll outliers \n",
    "# in order to see all the outliers on the graph, we limit the graph on the y-axis\n",
    "plt.ylim(0, 2000)\n",
    "plt.title(\"order prices\")\n",
    "plt.xlabel(\"order index\")\n",
    "plt.ylabel(\"revenue\");"
   ]
  },
  {
   "cell_type": "code",
   "execution_count": 34,
   "metadata": {},
   "outputs": [
    {
     "data": {
      "text/plain": [
       "425     19920.4\n",
       "1196     3120.1\n",
       "1136     1425.8\n",
       "744      1335.6\n",
       "743      1050.0\n",
       "         ...   \n",
       "307         5.2\n",
       "908         5.2\n",
       "602         5.1\n",
       "404         5.1\n",
       "1003        5.0\n",
       "Name: revenue, Length: 1016, dtype: float64"
      ]
     },
     "execution_count": 34,
     "metadata": {},
     "output_type": "execute_result"
    }
   ],
   "source": [
    " orders['revenue'].sort_values(ascending=False)"
   ]
  },
  {
   "cell_type": "markdown",
   "metadata": {},
   "source": [
    " - There is 1 huge order with 19920.4 revenue.\n",
    " - There is also 1 large order with 3129.1 revenue."
   ]
  },
  {
   "cell_type": "markdown",
   "metadata": {},
   "source": [
    "### Calculate the 95th and 99th percentiles of order prices. Define the point at which a data point becomes an anomaly.\n"
   ]
  },
  {
   "cell_type": "code",
   "execution_count": 35,
   "metadata": {},
   "outputs": [
    {
     "data": {
      "text/plain": [
       "array([414.275, 830.3  ])"
      ]
     },
     "execution_count": 35,
     "metadata": {},
     "output_type": "execute_result"
    }
   ],
   "source": [
    "np.percentile(orders['revenue'], [95, 99])"
   ]
  },
  {
   "cell_type": "markdown",
   "metadata": {},
   "source": [
    "- No more than 5% of orders as revenue greater than 414.275 \n",
    "- No more than 1% of orders as revenue greater than 830.3\n",
    "- 414.275 is the point at which a data points becaomes an anomaly"
   ]
  },
  {
   "cell_type": "markdown",
   "metadata": {},
   "source": [
    "### Find the statistical significance of the difference in conversion between the groups using the raw data. Make conclusions and conjectures.\n"
   ]
  },
  {
   "cell_type": "markdown",
   "metadata": {},
   "source": [
    "1. null hypothesis H₀ -\"The statistically significant in conversion between the groups is the same\"               \n",
    "2. alternative hypothesis H₁ - \"The statistically significant in conversion between the groups is differ.\"\n",
    "3. critical level of statistical significance that we will use is 0.05"
   ]
  },
  {
   "cell_type": "code",
   "execution_count": 36,
   "metadata": {},
   "outputs": [],
   "source": [
    "# orders from group A\n",
    "ordersByUsersA = orders[orders['group']=='A'].groupby('visitorId', as_index=False).agg({'transactionId' : pd.Series.nunique})\n",
    "ordersByUsersA.columns = ['visitorId', 'orders']\n",
    "#orders from group B\n",
    "ordersByUsersB = orders[orders['group']=='B'].groupby('visitorId', as_index=False).agg({'transactionId' : pd.Series.nunique})\n",
    "ordersByUsersB.columns = ['visitorId', 'orders'] \n",
    "\n",
    "sampleA = pd.concat([ordersByUsersA['orders'],pd.Series(0, index=np.arange(visits[visits['group']=='A']['visits'].sum()\\\n",
    "                                                                           - len(ordersByUsersA['orders'])), name='orders')],axis=0)\n",
    "\n",
    "sampleB = pd.concat([ordersByUsersB['orders'],pd.Series(0, index=np.arange(visits[visits['group']=='B']['visits'].sum()\\\n",
    "                                                                           - len(ordersByUsersB['orders'])), name='orders')],axis=0) \n"
   ]
  },
  {
   "cell_type": "code",
   "execution_count": 37,
   "metadata": {},
   "outputs": [
    {
     "data": {
      "text/plain": [
       "'0.011'"
      ]
     },
     "execution_count": 37,
     "metadata": {},
     "output_type": "execute_result"
    }
   ],
   "source": [
    "# Mann-Whitney test\n",
    "mannwhitney_Sample = \"{0:.3f}\".format(stats.mannwhitneyu(sampleA, sampleB,True,'two-sided')[1])\n",
    "mannwhitney_Sample"
   ]
  },
  {
   "cell_type": "code",
   "execution_count": 38,
   "metadata": {},
   "outputs": [
    {
     "data": {
      "text/plain": [
       "'1.4.1'"
      ]
     },
     "execution_count": 38,
     "metadata": {},
     "output_type": "execute_result"
    }
   ],
   "source": [
    "#Reviewer's code\n",
    "import scipy\n",
    "scipy.__version__"
   ]
  },
  {
   "cell_type": "code",
   "execution_count": 39,
   "metadata": {},
   "outputs": [
    {
     "data": {
      "text/plain": [
       "'0.160'"
      ]
     },
     "execution_count": 39,
     "metadata": {},
     "output_type": "execute_result"
    }
   ],
   "source": [
    "#relative difference in mean\n",
    "mannwhitney_mean = \"{0:.3f}\".format(sampleB.mean()/sampleA.mean()-1)\n",
    "mannwhitney_mean"
   ]
  },
  {
   "cell_type": "markdown",
   "metadata": {},
   "source": [
    "- The p-value is 0.011, which is lower than 0.05. So we reject the null hypothesis that there's not a statistically significant       difference in conversion between the groups.\n",
    "- The relative difference in mean for group B is  bigger than it is for group A.\n",
    "- There is a difference between groups A and B."
   ]
  },
  {
   "cell_type": "markdown",
   "metadata": {},
   "source": [
    "### Find the statistical significance of the difference in average order size between the groups using the raw data. Make conclusions and conjectures.\n"
   ]
  },
  {
   "cell_type": "markdown",
   "metadata": {},
   "source": [
    "1. null hypothesis H₀ -\"The statistically significant in average order size between the groups is the same\"               \n",
    "2. alternative hypothesis H₁ - \"The statistically significant in average order size between the groups is differ.\"\n",
    "3. critical level of statistical significance that we will use is 0.05"
   ]
  },
  {
   "cell_type": "code",
   "execution_count": 40,
   "metadata": {},
   "outputs": [
    {
     "data": {
      "text/plain": [
       "'0.862'"
      ]
     },
     "execution_count": 40,
     "metadata": {},
     "output_type": "execute_result"
    }
   ],
   "source": [
    "mannwhitney_revenue = '{0:.3f}'.format(stats.mannwhitneyu(orders[orders['group']=='A']['revenue'],\\\n",
    "                                                          orders[orders['group']=='B']['revenue'],True,'two-sided')[1])\n",
    "mannwhitney_revenue"
   ]
  },
  {
   "cell_type": "code",
   "execution_count": 41,
   "metadata": {},
   "outputs": [
    {
     "data": {
      "text/plain": [
       "'0.278'"
      ]
     },
     "execution_count": 41,
     "metadata": {},
     "output_type": "execute_result"
    }
   ],
   "source": [
    "mannwhitney_revenue_mean = '{0:.3f}'.format(orders[orders['group']=='B']['revenue'].mean()\\\n",
    "                                            /orders[orders['group']=='A']['revenue'].mean()-1)\n",
    "mannwhitney_revenue_mean"
   ]
  },
  {
   "cell_type": "markdown",
   "metadata": {},
   "source": [
    "- The p-value is  higher than 0.05, so we can't reject the null hypothesis and conclude that average order size differs between    the groups.\n",
    "- Average order size for group B is bigger than it is for group A.\n"
   ]
  },
  {
   "cell_type": "markdown",
   "metadata": {},
   "source": [
    "### Find the statistical significance of the difference in conversion between the groups using the filtered data. Make conclusions and conjectures.\n"
   ]
  },
  {
   "cell_type": "markdown",
   "metadata": {},
   "source": [
    "1. null hypothesis H₀ -\"The statistically significant in conversion between the groups is the same\"               \n",
    "2. alternative hypothesis H₁ - \"The statistically significant in conversion between the groups is differ.\"\n",
    "3. critical level of statistical significance that we will use is 0.05"
   ]
  },
  {
   "cell_type": "code",
   "execution_count": 42,
   "metadata": {},
   "outputs": [
    {
     "data": {
      "text/plain": [
       "(86,)"
      ]
     },
     "execution_count": 42,
     "metadata": {},
     "output_type": "execute_result"
    }
   ],
   "source": [
    "#declare outliers\n",
    "orders_outliers = np.percentile(orders_per_user['num_of_orders'], [95, 99][0])\n",
    "revenue_outliers= np.percentile(orders['revenue'], [95, 99][0])\n",
    "\n",
    "# remove users that made more than 1 order\n",
    "usersWithManyOrders = pd.concat([ordersByUsersA[ordersByUsersA['orders'] > orders_outliers]['visitorId'],\\\n",
    "                                 ordersByUsersB[ordersByUsersB['orders'] > orders_outliers]['visitorId']], axis = 0)\n",
    "\n",
    "# remove users that made orders bigger than 414\n",
    "usersWithExpensiveOrders = orders[orders['revenue'] > revenue_outliers]['visitorId']\n",
    "# joined table\n",
    "abnormalUsers = pd.concat([usersWithManyOrders, usersWithExpensiveOrders], axis = 0).drop_duplicates().sort_values()\n",
    "abnormalUsers.shape"
   ]
  },
  {
   "cell_type": "markdown",
   "metadata": {},
   "source": [
    "- There are 86 anomalous users."
   ]
  },
  {
   "cell_type": "code",
   "execution_count": 43,
   "metadata": {},
   "outputs": [],
   "source": [
    "# Sample A after removing anomalies\n",
    "sampleAFiltered = pd.concat([ordersByUsersA[np.logical_not(ordersByUsersA['visitorId'].isin(abnormalUsers))]['orders'],\\\n",
    "                             pd.Series(0, index=np.arange(visits[visits['group']=='A']['visits'].sum()\\\n",
    "                                                          - len(ordersByUsersA['orders'])),name='orders')],axis=0)\n",
    "# Sample B after removing anomalies\n",
    "sampleBFiltered = pd.concat([ordersByUsersB[np.logical_not(ordersByUsersB['visitorId'].isin(abnormalUsers))]['orders'],\\\n",
    "                             pd.Series(0, index=np.arange(visits[visits['group']=='B']['visits'].sum()\\\n",
    "                                                          - len(ordersByUsersB['orders'])),name='orders')],axis=0) \n"
   ]
  },
  {
   "cell_type": "code",
   "execution_count": 44,
   "metadata": {},
   "outputs": [
    {
     "data": {
      "text/plain": [
       "'0.016'"
      ]
     },
     "execution_count": 44,
     "metadata": {},
     "output_type": "execute_result"
    }
   ],
   "source": [
    "mannwhitney_SampleFiltered = \"{0:.3f}\".format(stats.mannwhitneyu(sampleAFiltered, sampleBFiltered,True,'two-sided')[1])\n",
    "mannwhitney_SampleFiltered"
   ]
  },
  {
   "cell_type": "code",
   "execution_count": 45,
   "metadata": {},
   "outputs": [
    {
     "data": {
      "text/plain": [
       "'0.174'"
      ]
     },
     "execution_count": 45,
     "metadata": {},
     "output_type": "execute_result"
    }
   ],
   "source": [
    "# calculate mean\n",
    "samplesFiltered_mean = \"{0:.3f}\".format(sampleBFiltered.mean()/sampleAFiltered.mean()-1)\n",
    "samplesFiltered_mean"
   ]
  },
  {
   "cell_type": "markdown",
   "metadata": {},
   "source": [
    "- The p-value is 0.016, which is lower than 0.05. So we reject the null hypothesis that there's not a statistically significant   difference in conversion between the groups.\n",
    "- The relative difference in mean for group B is bigger than it is for group A.\n",
    "- There is a difference between groups A and B."
   ]
  },
  {
   "cell_type": "markdown",
   "metadata": {},
   "source": [
    "### Find the statistical significance of the difference in average order size between the groups using the filtered data. Make conclusions and conjectures.\n"
   ]
  },
  {
   "cell_type": "markdown",
   "metadata": {},
   "source": [
    "1. null hypothesis H₀ -\"The statistically significant in average order size between the groups is the same\"               \n",
    "2. alternative hypothesis H₁ - \"The statistically significant in average order size between the groups is differ.\"\n",
    "3. critical level of statistical significance that we will use is 0.05"
   ]
  },
  {
   "cell_type": "code",
   "execution_count": 46,
   "metadata": {},
   "outputs": [
    {
     "data": {
      "text/plain": [
       "'0.771'"
      ]
     },
     "execution_count": 46,
     "metadata": {},
     "output_type": "execute_result"
    }
   ],
   "source": [
    "# Sample A after removing anomalies\n",
    "sampleAFiltered_revenue = orders[np.logical_and(orders['group']=='A',\\\n",
    "                                                np.logical_not(orders['visitorId'].isin(abnormalUsers)))]['revenue']\n",
    "# Sample B after removing anomalies\n",
    "sampleBFiltered_revenue = orders[np.logical_and(orders['group']=='B',\\\n",
    "                                                np.logical_not(orders['visitorId'].isin(abnormalUsers)))]['revenue']\n",
    "\n",
    "mannwhitney_Filtered_revenue = '{0:.3f}'.format(stats.mannwhitneyu(sampleAFiltered_revenue,\\\n",
    "                                                                   sampleBFiltered_revenue,True,'two-sided')[1])\n",
    "mannwhitney_Filtered_revenue"
   ]
  },
  {
   "cell_type": "code",
   "execution_count": 47,
   "metadata": {},
   "outputs": [
    {
     "data": {
      "text/plain": [
       "'-0.033'"
      ]
     },
     "execution_count": 47,
     "metadata": {},
     "output_type": "execute_result"
    }
   ],
   "source": [
    "# calculate mean group A\n",
    "sampleAFiltered_revenue_mean = orders[np.logical_and(orders['group']=='A',\\\n",
    "                                                     np.logical_not(orders['visitorId'].isin(abnormalUsers)))]['revenue'].mean()\n",
    "# calculate mean group A\n",
    "sampleBFiltered_revenue_mean = orders[np.logical_and(orders['group']=='B',\\\n",
    "                                                     np.logical_not(orders['visitorId'].isin(abnormalUsers)))]['revenue'].mean()\n",
    "# calculate mean \n",
    "mannwhitney_Filtered_mean = '{0:.3f}'.format( sampleBFiltered_revenue_mean/ sampleAFiltered_revenue_mean - 1)\n",
    "mannwhitney_Filtered_mean"
   ]
  },
  {
   "cell_type": "markdown",
   "metadata": {},
   "source": [
    "- The p-value is  higher than 0.05, so we can't reject the null hypothesis and conclude that average order size differs between    the groups.\n",
    "- Average order size for group B is lower than it is for group A.\n",
    "- The relative loss of group B is 3.3%."
   ]
  },
  {
   "cell_type": "markdown",
   "metadata": {},
   "source": [
    "### Make a decision based on the test results. The possible decisions are: 1. Stop the test, consider one of the groups the leader. 2. Stop the test, conclude that there is no difference between the groups. 3. Continue the test."
   ]
  },
  {
   "cell_type": "code",
   "execution_count": 48,
   "metadata": {},
   "outputs": [
    {
     "data": {
      "text/html": [
       "<div>\n",
       "<style scoped>\n",
       "    .dataframe tbody tr th:only-of-type {\n",
       "        vertical-align: middle;\n",
       "    }\n",
       "\n",
       "    .dataframe tbody tr th {\n",
       "        vertical-align: top;\n",
       "    }\n",
       "\n",
       "    .dataframe thead th {\n",
       "        text-align: right;\n",
       "    }\n",
       "</style>\n",
       "<table border=\"1\" class=\"dataframe\">\n",
       "  <thead>\n",
       "    <tr style=\"text-align: right;\">\n",
       "      <th></th>\n",
       "      <th>data</th>\n",
       "      <th>conversion</th>\n",
       "      <th>mean</th>\n",
       "    </tr>\n",
       "  </thead>\n",
       "  <tbody>\n",
       "    <tr>\n",
       "      <td>0</td>\n",
       "      <td>originalData</td>\n",
       "      <td>0.011</td>\n",
       "      <td>0.160</td>\n",
       "    </tr>\n",
       "    <tr>\n",
       "      <td>1</td>\n",
       "      <td>filteredData</td>\n",
       "      <td>0.016</td>\n",
       "      <td>0.174</td>\n",
       "    </tr>\n",
       "  </tbody>\n",
       "</table>\n",
       "</div>"
      ],
      "text/plain": [
       "           data conversion   mean\n",
       "0  originalData      0.011  0.160\n",
       "1  filteredData      0.016  0.174"
      ]
     },
     "execution_count": 48,
     "metadata": {},
     "output_type": "execute_result"
    }
   ],
   "source": [
    "conversion_diff = pd.DataFrame([['originalData',mannwhitney_Sample,mannwhitney_mean],\\\n",
    "                                ['filteredData',mannwhitney_SampleFiltered,samplesFiltered_mean]])\n",
    "conversion_diff.columns = ['data','conversion', 'mean']\n",
    "conversion_diff                  "
   ]
  },
  {
   "cell_type": "code",
   "execution_count": 49,
   "metadata": {},
   "outputs": [
    {
     "data": {
      "text/html": [
       "<div>\n",
       "<style scoped>\n",
       "    .dataframe tbody tr th:only-of-type {\n",
       "        vertical-align: middle;\n",
       "    }\n",
       "\n",
       "    .dataframe tbody tr th {\n",
       "        vertical-align: top;\n",
       "    }\n",
       "\n",
       "    .dataframe thead th {\n",
       "        text-align: right;\n",
       "    }\n",
       "</style>\n",
       "<table border=\"1\" class=\"dataframe\">\n",
       "  <thead>\n",
       "    <tr style=\"text-align: right;\">\n",
       "      <th></th>\n",
       "      <th>data</th>\n",
       "      <th>order_size</th>\n",
       "      <th>mean</th>\n",
       "    </tr>\n",
       "  </thead>\n",
       "  <tbody>\n",
       "    <tr>\n",
       "      <td>0</td>\n",
       "      <td>originalData</td>\n",
       "      <td>0.862</td>\n",
       "      <td>0.278</td>\n",
       "    </tr>\n",
       "    <tr>\n",
       "      <td>1</td>\n",
       "      <td>filteredData</td>\n",
       "      <td>0.771</td>\n",
       "      <td>-0.033</td>\n",
       "    </tr>\n",
       "  </tbody>\n",
       "</table>\n",
       "</div>"
      ],
      "text/plain": [
       "           data order_size    mean\n",
       "0  originalData      0.862   0.278\n",
       "1  filteredData      0.771  -0.033"
      ]
     },
     "execution_count": 49,
     "metadata": {},
     "output_type": "execute_result"
    }
   ],
   "source": [
    "# Create df with results from tests\n",
    "conversion_diff = pd.DataFrame([['originalData',mannwhitney_revenue,mannwhitney_revenue_mean], \n",
    "                                ['filteredData',mannwhitney_Filtered_revenue,mannwhitney_Filtered_mean]])\n",
    "conversion_diff.columns = ['data','order_size', 'mean']\n",
    "conversion_diff      "
   ]
  },
  {
   "cell_type": "markdown",
   "metadata": {},
   "source": [
    "- conversion between the groups in raw and filtered data didnt revealed any statistically significant differences\n",
    "meaning that<br> <b>There is a difference between groups A and B.</b>\n",
    "- Average order size for group B is bigger than it is for group A.But the different in means dropped in the filtered data.\n",
    "- The graph showing The difference in conversion between the groups tells us that group B's results are better  and continues to be improving.\n",
    "- The graph showing The difference in order size between the groups tells us that group B  results are better and looks like it got stabilized.\n",
    "\n",
    "Our decision is<br>\n",
    "<b>Stop the test, group B is the leader</b>"
   ]
  }
 ],
 "metadata": {
  "ExecuteTimeLog": [
   {
    "duration": 9,
    "start_time": "2021-08-16T07:15:46.348Z"
   },
   {
    "duration": 5,
    "start_time": "2021-08-16T07:20:47.508Z"
   },
   {
    "duration": 5,
    "start_time": "2021-08-16T07:20:56.918Z"
   },
   {
    "duration": 5,
    "start_time": "2021-08-16T07:22:07.505Z"
   },
   {
    "duration": 4,
    "start_time": "2021-08-16T07:24:38.263Z"
   },
   {
    "duration": 5,
    "start_time": "2021-08-16T07:25:04.180Z"
   },
   {
    "duration": 5,
    "start_time": "2021-08-16T07:25:55.981Z"
   },
   {
    "duration": 6,
    "start_time": "2021-08-16T07:26:35.262Z"
   },
   {
    "duration": 5,
    "start_time": "2021-08-16T07:26:40.749Z"
   },
   {
    "duration": 5,
    "start_time": "2021-08-16T07:26:42.509Z"
   },
   {
    "duration": 5,
    "start_time": "2021-08-16T07:27:45.191Z"
   },
   {
    "duration": 4,
    "start_time": "2021-08-16T07:29:25.840Z"
   },
   {
    "duration": 5,
    "start_time": "2021-08-16T07:29:53.584Z"
   },
   {
    "duration": 2273,
    "start_time": "2021-08-16T07:30:01.392Z"
   },
   {
    "duration": 708,
    "start_time": "2021-08-16T07:30:05.281Z"
   },
   {
    "duration": 18,
    "start_time": "2021-08-16T07:30:28.321Z"
   },
   {
    "duration": 28,
    "start_time": "2021-08-16T07:30:44.913Z"
   },
   {
    "duration": 27,
    "start_time": "2021-08-16T07:31:37.737Z"
   },
   {
    "duration": 117,
    "start_time": "2021-08-16T07:32:38.539Z"
   },
   {
    "duration": 17,
    "start_time": "2021-08-16T07:52:02.579Z"
   },
   {
    "duration": 14,
    "start_time": "2021-08-16T07:52:10.162Z"
   },
   {
    "duration": 13,
    "start_time": "2021-08-16T07:52:53.195Z"
   },
   {
    "duration": 10,
    "start_time": "2021-08-16T07:52:54.469Z"
   },
   {
    "duration": 10,
    "start_time": "2021-08-16T07:53:00.205Z"
   },
   {
    "duration": 146,
    "start_time": "2021-08-16T07:53:19.038Z"
   },
   {
    "duration": 12,
    "start_time": "2021-08-16T07:53:20.869Z"
   },
   {
    "duration": 9,
    "start_time": "2021-08-16T07:56:29.902Z"
   },
   {
    "duration": 10,
    "start_time": "2021-08-16T07:57:03.310Z"
   },
   {
    "duration": 8,
    "start_time": "2021-08-16T07:57:06.119Z"
   },
   {
    "duration": 7,
    "start_time": "2021-08-16T08:02:58.998Z"
   },
   {
    "duration": 10,
    "start_time": "2021-08-16T08:03:04.580Z"
   },
   {
    "duration": 9,
    "start_time": "2021-08-16T08:03:11.776Z"
   },
   {
    "duration": 19,
    "start_time": "2021-08-16T08:26:37.521Z"
   },
   {
    "duration": 551,
    "start_time": "2021-08-16T08:28:01.021Z"
   },
   {
    "duration": 353,
    "start_time": "2021-08-16T08:28:18.325Z"
   },
   {
    "duration": 11,
    "start_time": "2021-08-16T08:28:28.852Z"
   },
   {
    "duration": 386,
    "start_time": "2021-08-16T08:34:58.954Z"
   },
   {
    "duration": 347,
    "start_time": "2021-08-16T08:35:05.498Z"
   },
   {
    "duration": 1690,
    "start_time": "2021-08-16T08:35:22.921Z"
   },
   {
    "duration": 15,
    "start_time": "2021-08-16T08:35:57.826Z"
   },
   {
    "duration": 385,
    "start_time": "2021-08-16T08:37:47.317Z"
   },
   {
    "duration": 371,
    "start_time": "2021-08-16T08:38:13.612Z"
   },
   {
    "duration": 363,
    "start_time": "2021-08-16T08:43:42.283Z"
   },
   {
    "duration": 15,
    "start_time": "2021-08-16T08:43:49.288Z"
   },
   {
    "duration": 9,
    "start_time": "2021-08-16T08:45:10.322Z"
   },
   {
    "duration": 96,
    "start_time": "2021-08-16T08:45:22.151Z"
   },
   {
    "duration": 10,
    "start_time": "2021-08-16T08:45:25.655Z"
   },
   {
    "duration": 13,
    "start_time": "2021-08-16T08:45:34.163Z"
   },
   {
    "duration": 14,
    "start_time": "2021-08-16T08:45:36.467Z"
   },
   {
    "duration": 7,
    "start_time": "2021-08-16T08:45:56.598Z"
   },
   {
    "duration": 14,
    "start_time": "2021-08-16T08:46:03.508Z"
   },
   {
    "duration": 12,
    "start_time": "2021-08-16T08:57:08.086Z"
   },
   {
    "duration": 8888,
    "start_time": "2021-08-16T08:57:27.111Z"
   },
   {
    "duration": 5,
    "start_time": "2021-08-16T08:57:48.765Z"
   },
   {
    "duration": 12,
    "start_time": "2021-08-16T08:57:51.634Z"
   },
   {
    "duration": 15,
    "start_time": "2021-08-16T09:16:42.731Z"
   },
   {
    "duration": 18,
    "start_time": "2021-08-16T09:17:06.546Z"
   },
   {
    "duration": 19,
    "start_time": "2021-08-16T09:18:12.078Z"
   },
   {
    "duration": 13,
    "start_time": "2021-08-16T11:25:57.738Z"
   },
   {
    "duration": 15,
    "start_time": "2021-08-16T11:26:12.538Z"
   },
   {
    "duration": 27,
    "start_time": "2021-08-16T11:26:25.800Z"
   },
   {
    "duration": 14,
    "start_time": "2021-08-16T11:26:42.294Z"
   },
   {
    "duration": 13,
    "start_time": "2021-08-16T11:26:54.670Z"
   },
   {
    "duration": 9,
    "start_time": "2021-08-16T11:32:08.344Z"
   },
   {
    "duration": 4,
    "start_time": "2021-08-16T11:37:43.320Z"
   },
   {
    "duration": 91,
    "start_time": "2021-08-16T11:37:43.328Z"
   },
   {
    "duration": 12,
    "start_time": "2021-08-16T11:37:43.422Z"
   },
   {
    "duration": 11,
    "start_time": "2021-08-16T11:37:43.437Z"
   },
   {
    "duration": 16,
    "start_time": "2021-08-16T11:37:43.451Z"
   },
   {
    "duration": 11,
    "start_time": "2021-08-16T11:37:43.470Z"
   },
   {
    "duration": 14,
    "start_time": "2021-08-16T11:37:43.483Z"
   },
   {
    "duration": 6,
    "start_time": "2021-08-16T11:37:43.499Z"
   },
   {
    "duration": 14,
    "start_time": "2021-08-16T11:37:43.509Z"
   },
   {
    "duration": 11,
    "start_time": "2021-08-16T11:37:43.556Z"
   },
   {
    "duration": 8,
    "start_time": "2021-08-16T11:37:43.570Z"
   },
   {
    "duration": 17,
    "start_time": "2021-08-16T11:37:43.580Z"
   },
   {
    "duration": 23,
    "start_time": "2021-08-16T11:37:43.600Z"
   },
   {
    "duration": 47,
    "start_time": "2021-08-16T11:37:43.625Z"
   },
   {
    "duration": 359,
    "start_time": "2021-08-16T11:52:51.812Z"
   },
   {
    "duration": 12,
    "start_time": "2021-08-16T11:52:55.568Z"
   },
   {
    "duration": 6,
    "start_time": "2021-08-16T11:52:57.960Z"
   },
   {
    "duration": 13,
    "start_time": "2021-08-16T11:52:59.296Z"
   },
   {
    "duration": 4,
    "start_time": "2021-08-16T11:53:30.845Z"
   },
   {
    "duration": 85,
    "start_time": "2021-08-16T11:53:30.852Z"
   },
   {
    "duration": 12,
    "start_time": "2021-08-16T11:53:30.940Z"
   },
   {
    "duration": 30,
    "start_time": "2021-08-16T11:53:30.954Z"
   },
   {
    "duration": 28,
    "start_time": "2021-08-16T11:53:30.987Z"
   },
   {
    "duration": 36,
    "start_time": "2021-08-16T11:53:31.018Z"
   },
   {
    "duration": 14,
    "start_time": "2021-08-16T11:53:37.224Z"
   },
   {
    "duration": 13,
    "start_time": "2021-08-16T11:54:23.847Z"
   },
   {
    "duration": 13,
    "start_time": "2021-08-16T11:54:40.154Z"
   },
   {
    "duration": 8,
    "start_time": "2021-08-16T11:54:57.891Z"
   },
   {
    "duration": 13,
    "start_time": "2021-08-16T11:55:04.706Z"
   },
   {
    "duration": 12,
    "start_time": "2021-08-16T11:55:38.855Z"
   },
   {
    "duration": 324,
    "start_time": "2021-08-16T12:20:20.284Z"
   },
   {
    "duration": 344,
    "start_time": "2021-08-16T12:20:43.889Z"
   },
   {
    "duration": 7,
    "start_time": "2021-08-16T12:21:10.233Z"
   },
   {
    "duration": 9,
    "start_time": "2021-08-16T12:21:25.593Z"
   },
   {
    "duration": 4,
    "start_time": "2021-08-16T12:21:34.415Z"
   },
   {
    "duration": 97,
    "start_time": "2021-08-16T12:21:34.421Z"
   },
   {
    "duration": 10,
    "start_time": "2021-08-16T12:21:34.520Z"
   },
   {
    "duration": 15,
    "start_time": "2021-08-16T12:21:34.533Z"
   },
   {
    "duration": 16,
    "start_time": "2021-08-16T12:21:34.550Z"
   },
   {
    "duration": 11,
    "start_time": "2021-08-16T12:21:34.568Z"
   },
   {
    "duration": 16,
    "start_time": "2021-08-16T12:21:34.582Z"
   },
   {
    "duration": 15,
    "start_time": "2021-08-16T12:21:38.761Z"
   },
   {
    "duration": 8,
    "start_time": "2021-08-16T12:21:57.778Z"
   },
   {
    "duration": 353,
    "start_time": "2021-08-16T12:22:04.035Z"
   },
   {
    "duration": 9,
    "start_time": "2021-08-16T12:22:25.355Z"
   },
   {
    "duration": 343,
    "start_time": "2021-08-16T12:23:05.918Z"
   },
   {
    "duration": 4,
    "start_time": "2021-08-16T18:46:04.362Z"
   },
   {
    "duration": 74,
    "start_time": "2021-08-16T18:46:04.368Z"
   },
   {
    "duration": 11,
    "start_time": "2021-08-16T18:46:04.445Z"
   },
   {
    "duration": 12,
    "start_time": "2021-08-16T18:46:04.459Z"
   },
   {
    "duration": 14,
    "start_time": "2021-08-16T18:46:04.473Z"
   },
   {
    "duration": 10,
    "start_time": "2021-08-16T18:46:04.489Z"
   },
   {
    "duration": 13,
    "start_time": "2021-08-16T18:46:04.501Z"
   },
   {
    "duration": 9,
    "start_time": "2021-08-16T18:46:04.557Z"
   },
   {
    "duration": 346,
    "start_time": "2021-08-16T18:46:09.697Z"
   },
   {
    "duration": 353,
    "start_time": "2021-08-16T18:49:02.353Z"
   },
   {
    "duration": 152,
    "start_time": "2021-08-16T18:50:00.473Z"
   },
   {
    "duration": 13,
    "start_time": "2021-08-16T18:50:21.583Z"
   },
   {
    "duration": 10,
    "start_time": "2021-08-16T18:50:27.608Z"
   },
   {
    "duration": 9,
    "start_time": "2021-08-16T18:50:39.872Z"
   },
   {
    "duration": 10,
    "start_time": "2021-08-16T18:50:59.713Z"
   },
   {
    "duration": 10,
    "start_time": "2021-08-16T18:51:09.793Z"
   },
   {
    "duration": 8,
    "start_time": "2021-08-16T18:51:47.139Z"
   },
   {
    "duration": 13,
    "start_time": "2021-08-16T18:52:10.372Z"
   },
   {
    "duration": 14,
    "start_time": "2021-08-16T18:52:30.938Z"
   },
   {
    "duration": 8,
    "start_time": "2021-08-16T18:54:59.397Z"
   },
   {
    "duration": 10,
    "start_time": "2021-08-16T18:55:11.925Z"
   },
   {
    "duration": 11,
    "start_time": "2021-08-16T18:55:22.293Z"
   },
   {
    "duration": 332,
    "start_time": "2021-08-16T18:55:32.733Z"
   },
   {
    "duration": 7,
    "start_time": "2021-08-16T18:57:05.228Z"
   },
   {
    "duration": 12,
    "start_time": "2021-08-16T18:57:14.283Z"
   },
   {
    "duration": 9,
    "start_time": "2021-08-16T18:57:40.437Z"
   },
   {
    "duration": 8,
    "start_time": "2021-08-16T18:57:48.556Z"
   },
   {
    "duration": 4,
    "start_time": "2021-08-16T18:59:22.323Z"
   },
   {
    "duration": 76,
    "start_time": "2021-08-16T18:59:22.330Z"
   },
   {
    "duration": 10,
    "start_time": "2021-08-16T18:59:22.409Z"
   },
   {
    "duration": 11,
    "start_time": "2021-08-16T18:59:22.422Z"
   },
   {
    "duration": 17,
    "start_time": "2021-08-16T18:59:22.435Z"
   },
   {
    "duration": 18,
    "start_time": "2021-08-16T18:59:22.453Z"
   },
   {
    "duration": 25,
    "start_time": "2021-08-16T18:59:22.474Z"
   },
   {
    "duration": 11,
    "start_time": "2021-08-16T18:59:22.503Z"
   },
   {
    "duration": 15,
    "start_time": "2021-08-16T18:59:22.517Z"
   },
   {
    "duration": 9,
    "start_time": "2021-08-16T18:59:28.772Z"
   },
   {
    "duration": 17,
    "start_time": "2021-08-16T18:59:30.470Z"
   },
   {
    "duration": 11,
    "start_time": "2021-08-16T19:01:01.492Z"
   },
   {
    "duration": 4,
    "start_time": "2021-08-16T19:01:43.941Z"
   },
   {
    "duration": 68,
    "start_time": "2021-08-16T19:01:43.948Z"
   },
   {
    "duration": 10,
    "start_time": "2021-08-16T19:01:44.018Z"
   },
   {
    "duration": 8,
    "start_time": "2021-08-16T19:01:44.031Z"
   },
   {
    "duration": 15,
    "start_time": "2021-08-16T19:01:44.041Z"
   },
   {
    "duration": 9,
    "start_time": "2021-08-16T19:01:44.058Z"
   },
   {
    "duration": 15,
    "start_time": "2021-08-16T19:01:44.069Z"
   },
   {
    "duration": 8,
    "start_time": "2021-08-16T19:01:44.088Z"
   },
   {
    "duration": 14,
    "start_time": "2021-08-16T19:01:44.098Z"
   },
   {
    "duration": 16,
    "start_time": "2021-08-16T19:01:48.801Z"
   },
   {
    "duration": 9,
    "start_time": "2021-08-16T19:01:56.307Z"
   },
   {
    "duration": 16,
    "start_time": "2021-08-16T19:01:57.560Z"
   },
   {
    "duration": 13,
    "start_time": "2021-08-16T19:03:05.181Z"
   },
   {
    "duration": 14,
    "start_time": "2021-08-16T19:03:28.496Z"
   },
   {
    "duration": 9,
    "start_time": "2021-08-16T19:05:14.085Z"
   },
   {
    "duration": 4,
    "start_time": "2021-08-16T19:06:34.312Z"
   },
   {
    "duration": 69,
    "start_time": "2021-08-16T19:06:34.319Z"
   },
   {
    "duration": 11,
    "start_time": "2021-08-16T19:06:34.391Z"
   },
   {
    "duration": 14,
    "start_time": "2021-08-16T19:06:34.404Z"
   },
   {
    "duration": 13,
    "start_time": "2021-08-16T19:06:34.421Z"
   },
   {
    "duration": 18,
    "start_time": "2021-08-16T19:06:34.437Z"
   },
   {
    "duration": 12,
    "start_time": "2021-08-16T19:06:34.457Z"
   },
   {
    "duration": 17,
    "start_time": "2021-08-16T19:06:38.500Z"
   },
   {
    "duration": 29,
    "start_time": "2021-08-16T19:07:10.805Z"
   },
   {
    "duration": 334,
    "start_time": "2021-08-16T19:08:39.926Z"
   },
   {
    "duration": 11,
    "start_time": "2021-08-16T19:08:50.431Z"
   },
   {
    "duration": 344,
    "start_time": "2021-08-16T19:09:52.250Z"
   },
   {
    "duration": 12,
    "start_time": "2021-08-16T19:10:14.361Z"
   },
   {
    "duration": 455,
    "start_time": "2021-08-17T06:43:33.307Z"
   },
   {
    "duration": 631,
    "start_time": "2021-08-17T06:43:41.177Z"
   },
   {
    "duration": 361,
    "start_time": "2021-08-17T06:44:15.472Z"
   },
   {
    "duration": 358,
    "start_time": "2021-08-17T06:44:50.250Z"
   },
   {
    "duration": 11,
    "start_time": "2021-08-17T06:45:07.426Z"
   },
   {
    "duration": 5,
    "start_time": "2021-08-17T06:45:22.511Z"
   },
   {
    "duration": 103,
    "start_time": "2021-08-17T06:45:22.519Z"
   },
   {
    "duration": 11,
    "start_time": "2021-08-17T06:45:22.625Z"
   },
   {
    "duration": 14,
    "start_time": "2021-08-17T06:45:22.639Z"
   },
   {
    "duration": 17,
    "start_time": "2021-08-17T06:45:22.656Z"
   },
   {
    "duration": 21,
    "start_time": "2021-08-17T06:45:22.676Z"
   },
   {
    "duration": 18,
    "start_time": "2021-08-17T06:45:22.699Z"
   },
   {
    "duration": 8,
    "start_time": "2021-08-17T06:45:22.721Z"
   },
   {
    "duration": 21,
    "start_time": "2021-08-17T06:45:22.732Z"
   },
   {
    "duration": 29,
    "start_time": "2021-08-17T06:45:22.755Z"
   },
   {
    "duration": 21,
    "start_time": "2021-08-17T06:45:22.786Z"
   },
   {
    "duration": 35,
    "start_time": "2021-08-17T06:45:22.809Z"
   },
   {
    "duration": 27,
    "start_time": "2021-08-17T06:45:22.847Z"
   },
   {
    "duration": 30,
    "start_time": "2021-08-17T06:45:22.876Z"
   },
   {
    "duration": 18,
    "start_time": "2021-08-17T06:45:30.747Z"
   },
   {
    "duration": 21,
    "start_time": "2021-08-17T07:02:33.247Z"
   },
   {
    "duration": 19,
    "start_time": "2021-08-17T07:02:59.135Z"
   },
   {
    "duration": 4,
    "start_time": "2021-08-17T07:03:36.749Z"
   },
   {
    "duration": 131,
    "start_time": "2021-08-17T07:03:36.757Z"
   },
   {
    "duration": 14,
    "start_time": "2021-08-17T07:03:36.892Z"
   },
   {
    "duration": 10,
    "start_time": "2021-08-17T07:03:36.910Z"
   },
   {
    "duration": 22,
    "start_time": "2021-08-17T07:03:36.923Z"
   },
   {
    "duration": 13,
    "start_time": "2021-08-17T07:03:36.947Z"
   },
   {
    "duration": 12,
    "start_time": "2021-08-17T07:03:36.962Z"
   },
   {
    "duration": 18,
    "start_time": "2021-08-17T07:03:36.977Z"
   },
   {
    "duration": 7,
    "start_time": "2021-08-17T07:03:36.998Z"
   },
   {
    "duration": 50,
    "start_time": "2021-08-17T07:03:37.008Z"
   },
   {
    "duration": 21,
    "start_time": "2021-08-17T07:03:37.062Z"
   },
   {
    "duration": 31,
    "start_time": "2021-08-17T07:03:37.086Z"
   },
   {
    "duration": 43,
    "start_time": "2021-08-17T07:03:37.120Z"
   },
   {
    "duration": 42,
    "start_time": "2021-08-17T07:03:37.166Z"
   },
   {
    "duration": 15,
    "start_time": "2021-08-17T07:04:03.709Z"
   },
   {
    "duration": 15,
    "start_time": "2021-08-17T07:04:22.416Z"
   },
   {
    "duration": 15,
    "start_time": "2021-08-17T07:04:38.977Z"
   },
   {
    "duration": 365,
    "start_time": "2021-08-17T07:04:54.394Z"
   },
   {
    "duration": 15,
    "start_time": "2021-08-17T07:05:05.984Z"
   },
   {
    "duration": 374,
    "start_time": "2021-08-17T07:05:30.633Z"
   },
   {
    "duration": 15,
    "start_time": "2021-08-17T07:06:03.060Z"
   },
   {
    "duration": 384,
    "start_time": "2021-08-17T07:06:19.146Z"
   },
   {
    "duration": 374,
    "start_time": "2021-08-17T07:06:49.732Z"
   },
   {
    "duration": 15,
    "start_time": "2021-08-17T07:11:59.175Z"
   },
   {
    "duration": 5,
    "start_time": "2021-08-17T07:12:08.513Z"
   },
   {
    "duration": 6,
    "start_time": "2021-08-17T07:12:12.575Z"
   },
   {
    "duration": 363,
    "start_time": "2021-08-17T07:12:58.662Z"
   },
   {
    "duration": 376,
    "start_time": "2021-08-17T07:13:12.377Z"
   },
   {
    "duration": 6,
    "start_time": "2021-08-17T07:13:19.159Z"
   },
   {
    "duration": 17,
    "start_time": "2021-08-17T07:13:24.734Z"
   },
   {
    "duration": 18,
    "start_time": "2021-08-17T07:13:54.857Z"
   },
   {
    "duration": 22,
    "start_time": "2021-08-17T07:14:21.818Z"
   },
   {
    "duration": 18,
    "start_time": "2021-08-17T07:15:17.835Z"
   },
   {
    "duration": 343,
    "start_time": "2021-08-17T07:15:58.657Z"
   },
   {
    "duration": 10,
    "start_time": "2021-08-17T07:16:17.682Z"
   },
   {
    "duration": 398,
    "start_time": "2021-08-17T07:16:30.946Z"
   },
   {
    "duration": 345,
    "start_time": "2021-08-17T07:16:48.106Z"
   },
   {
    "duration": 413,
    "start_time": "2021-08-17T07:16:59.755Z"
   },
   {
    "duration": 4,
    "start_time": "2021-08-17T07:17:07.500Z"
   },
   {
    "duration": 4,
    "start_time": "2021-08-17T07:17:14.426Z"
   },
   {
    "duration": 78,
    "start_time": "2021-08-17T07:17:14.437Z"
   },
   {
    "duration": 12,
    "start_time": "2021-08-17T07:17:14.518Z"
   },
   {
    "duration": 18,
    "start_time": "2021-08-17T07:17:14.533Z"
   },
   {
    "duration": 26,
    "start_time": "2021-08-17T07:17:14.554Z"
   },
   {
    "duration": 14,
    "start_time": "2021-08-17T07:17:14.583Z"
   },
   {
    "duration": 27,
    "start_time": "2021-08-17T07:17:14.599Z"
   },
   {
    "duration": 14,
    "start_time": "2021-08-17T07:17:14.629Z"
   },
   {
    "duration": 20,
    "start_time": "2021-08-17T07:17:14.645Z"
   },
   {
    "duration": 40,
    "start_time": "2021-08-17T07:17:14.668Z"
   },
   {
    "duration": 24,
    "start_time": "2021-08-17T07:17:14.711Z"
   },
   {
    "duration": 18,
    "start_time": "2021-08-17T07:17:14.737Z"
   },
   {
    "duration": 43,
    "start_time": "2021-08-17T07:17:14.757Z"
   },
   {
    "duration": 32,
    "start_time": "2021-08-17T07:17:14.802Z"
   },
   {
    "duration": 15,
    "start_time": "2021-08-17T07:17:22.365Z"
   },
   {
    "duration": 6,
    "start_time": "2021-08-17T07:17:47.965Z"
   },
   {
    "duration": 6,
    "start_time": "2021-08-17T07:17:53.468Z"
   },
   {
    "duration": 13,
    "start_time": "2021-08-17T07:17:55.997Z"
   },
   {
    "duration": 7,
    "start_time": "2021-08-17T07:18:12.212Z"
   },
   {
    "duration": 15,
    "start_time": "2021-08-17T07:18:13.540Z"
   },
   {
    "duration": 370,
    "start_time": "2021-08-17T07:19:06.293Z"
   },
   {
    "duration": 17,
    "start_time": "2021-08-17T07:19:48.462Z"
   },
   {
    "duration": 5,
    "start_time": "2021-08-17T07:20:24.441Z"
   },
   {
    "duration": 90,
    "start_time": "2021-08-17T07:20:24.449Z"
   },
   {
    "duration": 10,
    "start_time": "2021-08-17T07:20:24.543Z"
   },
   {
    "duration": 21,
    "start_time": "2021-08-17T07:20:24.556Z"
   },
   {
    "duration": 32,
    "start_time": "2021-08-17T07:20:24.579Z"
   },
   {
    "duration": 18,
    "start_time": "2021-08-17T07:20:24.613Z"
   },
   {
    "duration": 28,
    "start_time": "2021-08-17T07:20:24.633Z"
   },
   {
    "duration": 18,
    "start_time": "2021-08-17T07:20:24.663Z"
   },
   {
    "duration": 12,
    "start_time": "2021-08-17T07:20:24.685Z"
   },
   {
    "duration": 27,
    "start_time": "2021-08-17T07:20:24.700Z"
   },
   {
    "duration": 31,
    "start_time": "2021-08-17T07:20:24.729Z"
   },
   {
    "duration": 24,
    "start_time": "2021-08-17T07:20:24.763Z"
   },
   {
    "duration": 28,
    "start_time": "2021-08-17T07:20:24.789Z"
   },
   {
    "duration": 29,
    "start_time": "2021-08-17T07:20:24.819Z"
   },
   {
    "duration": 8,
    "start_time": "2021-08-17T07:20:33.329Z"
   },
   {
    "duration": 15,
    "start_time": "2021-08-17T07:20:36.063Z"
   },
   {
    "duration": 7,
    "start_time": "2021-08-17T07:21:31.535Z"
   },
   {
    "duration": 15,
    "start_time": "2021-08-17T07:21:32.791Z"
   },
   {
    "duration": 4,
    "start_time": "2021-08-17T07:21:42.791Z"
   },
   {
    "duration": 80,
    "start_time": "2021-08-17T07:21:42.798Z"
   },
   {
    "duration": 10,
    "start_time": "2021-08-17T07:21:42.881Z"
   },
   {
    "duration": 13,
    "start_time": "2021-08-17T07:21:42.894Z"
   },
   {
    "duration": 20,
    "start_time": "2021-08-17T07:21:42.909Z"
   },
   {
    "duration": 12,
    "start_time": "2021-08-17T07:21:42.932Z"
   },
   {
    "duration": 14,
    "start_time": "2021-08-17T07:21:42.946Z"
   },
   {
    "duration": 12,
    "start_time": "2021-08-17T07:21:42.963Z"
   },
   {
    "duration": 13,
    "start_time": "2021-08-17T07:21:42.977Z"
   },
   {
    "duration": 16,
    "start_time": "2021-08-17T07:21:42.992Z"
   },
   {
    "duration": 20,
    "start_time": "2021-08-17T07:21:43.011Z"
   },
   {
    "duration": 27,
    "start_time": "2021-08-17T07:21:43.034Z"
   },
   {
    "duration": 24,
    "start_time": "2021-08-17T07:21:43.064Z"
   },
   {
    "duration": 26,
    "start_time": "2021-08-17T07:21:43.090Z"
   },
   {
    "duration": 12,
    "start_time": "2021-08-17T07:21:47.103Z"
   },
   {
    "duration": 16,
    "start_time": "2021-08-17T07:21:48.863Z"
   },
   {
    "duration": 4,
    "start_time": "2021-08-17T07:23:55.020Z"
   },
   {
    "duration": 80,
    "start_time": "2021-08-17T07:23:55.027Z"
   },
   {
    "duration": 10,
    "start_time": "2021-08-17T07:23:55.109Z"
   },
   {
    "duration": 8,
    "start_time": "2021-08-17T07:23:55.122Z"
   },
   {
    "duration": 15,
    "start_time": "2021-08-17T07:23:55.133Z"
   },
   {
    "duration": 10,
    "start_time": "2021-08-17T07:23:55.151Z"
   },
   {
    "duration": 25,
    "start_time": "2021-08-17T07:23:55.163Z"
   },
   {
    "duration": 9,
    "start_time": "2021-08-17T07:23:55.191Z"
   },
   {
    "duration": 10,
    "start_time": "2021-08-17T07:23:55.202Z"
   },
   {
    "duration": 14,
    "start_time": "2021-08-17T07:23:55.214Z"
   },
   {
    "duration": 27,
    "start_time": "2021-08-17T07:23:55.230Z"
   },
   {
    "duration": 20,
    "start_time": "2021-08-17T07:23:55.259Z"
   },
   {
    "duration": 19,
    "start_time": "2021-08-17T07:23:55.281Z"
   },
   {
    "duration": 21,
    "start_time": "2021-08-17T07:23:55.302Z"
   },
   {
    "duration": 9,
    "start_time": "2021-08-17T07:23:57.138Z"
   },
   {
    "duration": 15,
    "start_time": "2021-08-17T07:23:58.615Z"
   },
   {
    "duration": 5,
    "start_time": "2021-08-17T07:24:34.454Z"
   },
   {
    "duration": 73,
    "start_time": "2021-08-17T07:24:34.462Z"
   },
   {
    "duration": 11,
    "start_time": "2021-08-17T07:24:34.538Z"
   },
   {
    "duration": 10,
    "start_time": "2021-08-17T07:24:34.551Z"
   },
   {
    "duration": 12,
    "start_time": "2021-08-17T07:24:34.563Z"
   },
   {
    "duration": 11,
    "start_time": "2021-08-17T07:24:34.577Z"
   },
   {
    "duration": 46,
    "start_time": "2021-08-17T07:24:34.590Z"
   },
   {
    "duration": 15,
    "start_time": "2021-08-17T07:24:34.641Z"
   },
   {
    "duration": 10,
    "start_time": "2021-08-17T07:24:34.659Z"
   },
   {
    "duration": 13,
    "start_time": "2021-08-17T07:24:34.672Z"
   },
   {
    "duration": 10,
    "start_time": "2021-08-17T07:24:34.688Z"
   },
   {
    "duration": 12,
    "start_time": "2021-08-17T07:24:34.700Z"
   },
   {
    "duration": 54,
    "start_time": "2021-08-17T07:24:34.715Z"
   },
   {
    "duration": 22,
    "start_time": "2021-08-17T07:24:34.772Z"
   },
   {
    "duration": 17,
    "start_time": "2021-08-17T07:24:38.489Z"
   },
   {
    "duration": 17,
    "start_time": "2021-08-17T07:28:09.122Z"
   },
   {
    "duration": 26,
    "start_time": "2021-08-17T07:29:29.523Z"
   },
   {
    "duration": 27,
    "start_time": "2021-08-17T07:29:45.459Z"
   },
   {
    "duration": 30,
    "start_time": "2021-08-17T07:31:27.558Z"
   },
   {
    "duration": 320,
    "start_time": "2021-08-17T07:45:25.656Z"
   },
   {
    "duration": 323,
    "start_time": "2021-08-17T07:48:10.537Z"
   },
   {
    "duration": 407,
    "start_time": "2021-08-17T07:50:52.220Z"
   },
   {
    "duration": 387,
    "start_time": "2021-08-17T07:51:10.104Z"
   },
   {
    "duration": 400,
    "start_time": "2021-08-17T07:52:06.533Z"
   },
   {
    "duration": 1968,
    "start_time": "2021-08-19T09:29:35.998Z"
   },
   {
    "duration": 57,
    "start_time": "2021-08-19T09:29:37.969Z"
   },
   {
    "duration": 14,
    "start_time": "2021-08-19T09:29:38.029Z"
   },
   {
    "duration": 8,
    "start_time": "2021-08-19T09:29:38.046Z"
   },
   {
    "duration": 11,
    "start_time": "2021-08-19T09:29:38.056Z"
   },
   {
    "duration": 14,
    "start_time": "2021-08-19T09:29:38.069Z"
   },
   {
    "duration": 15,
    "start_time": "2021-08-19T09:29:38.086Z"
   },
   {
    "duration": 11,
    "start_time": "2021-08-19T09:29:38.106Z"
   },
   {
    "duration": 9,
    "start_time": "2021-08-19T09:29:38.119Z"
   },
   {
    "duration": 14,
    "start_time": "2021-08-19T09:29:38.130Z"
   },
   {
    "duration": 9,
    "start_time": "2021-08-19T09:29:38.182Z"
   },
   {
    "duration": 12,
    "start_time": "2021-08-19T09:29:38.195Z"
   },
   {
    "duration": 15,
    "start_time": "2021-08-19T09:29:38.209Z"
   },
   {
    "duration": 56,
    "start_time": "2021-08-19T09:29:38.226Z"
   },
   {
    "duration": 25,
    "start_time": "2021-08-19T09:29:38.285Z"
   },
   {
    "duration": 379,
    "start_time": "2021-08-19T09:29:38.312Z"
   },
   {
    "duration": 4,
    "start_time": "2021-08-19T09:32:15.552Z"
   },
   {
    "duration": 59,
    "start_time": "2021-08-19T09:32:17.021Z"
   },
   {
    "duration": 14,
    "start_time": "2021-08-19T09:32:17.784Z"
   },
   {
    "duration": 2170,
    "start_time": "2021-08-19T10:10:37.150Z"
   },
   {
    "duration": 57,
    "start_time": "2021-08-19T10:10:39.323Z"
   },
   {
    "duration": 18,
    "start_time": "2021-08-19T10:10:39.383Z"
   },
   {
    "duration": 7,
    "start_time": "2021-08-19T10:10:39.404Z"
   },
   {
    "duration": 25,
    "start_time": "2021-08-19T10:10:39.413Z"
   },
   {
    "duration": 20,
    "start_time": "2021-08-19T10:10:39.440Z"
   },
   {
    "duration": 31,
    "start_time": "2021-08-19T10:10:39.462Z"
   },
   {
    "duration": 8,
    "start_time": "2021-08-19T10:10:39.497Z"
   },
   {
    "duration": 21,
    "start_time": "2021-08-19T10:10:39.508Z"
   },
   {
    "duration": 17,
    "start_time": "2021-08-19T10:10:39.532Z"
   },
   {
    "duration": 30,
    "start_time": "2021-08-19T10:10:39.552Z"
   },
   {
    "duration": 22,
    "start_time": "2021-08-19T10:10:39.585Z"
   },
   {
    "duration": 29,
    "start_time": "2021-08-19T10:10:39.609Z"
   },
   {
    "duration": 18,
    "start_time": "2021-08-19T10:10:39.641Z"
   },
   {
    "duration": 45,
    "start_time": "2021-08-19T10:10:39.661Z"
   },
   {
    "duration": 410,
    "start_time": "2021-08-19T10:10:39.708Z"
   },
   {
    "duration": 2027,
    "start_time": "2021-08-20T15:20:28.621Z"
   },
   {
    "duration": 5,
    "start_time": "2021-08-20T15:20:38.666Z"
   },
   {
    "duration": 72,
    "start_time": "2021-08-20T15:20:38.682Z"
   },
   {
    "duration": 17,
    "start_time": "2021-08-20T15:20:38.758Z"
   },
   {
    "duration": 10,
    "start_time": "2021-08-20T15:20:38.779Z"
   },
   {
    "duration": 22,
    "start_time": "2021-08-20T15:20:38.791Z"
   },
   {
    "duration": 41,
    "start_time": "2021-08-20T15:20:38.815Z"
   },
   {
    "duration": 12,
    "start_time": "2021-08-20T15:20:38.859Z"
   },
   {
    "duration": 11,
    "start_time": "2021-08-20T15:20:38.874Z"
   },
   {
    "duration": 9,
    "start_time": "2021-08-20T15:20:38.890Z"
   },
   {
    "duration": 12,
    "start_time": "2021-08-20T15:20:38.901Z"
   },
   {
    "duration": 48,
    "start_time": "2021-08-20T15:20:38.915Z"
   },
   {
    "duration": 12,
    "start_time": "2021-08-20T15:20:38.966Z"
   },
   {
    "duration": 30,
    "start_time": "2021-08-20T15:20:38.981Z"
   },
   {
    "duration": 19,
    "start_time": "2021-08-20T15:20:39.013Z"
   },
   {
    "duration": 24,
    "start_time": "2021-08-20T15:20:39.055Z"
   },
   {
    "duration": 487,
    "start_time": "2021-08-20T15:20:39.081Z"
   },
   {
    "duration": 119,
    "start_time": "2021-08-20T15:27:07.826Z"
   },
   {
    "duration": 18,
    "start_time": "2021-08-20T15:27:55.632Z"
   },
   {
    "duration": 17,
    "start_time": "2021-08-20T15:29:54.133Z"
   },
   {
    "duration": 17,
    "start_time": "2021-08-20T15:30:37.918Z"
   },
   {
    "duration": 17,
    "start_time": "2021-08-20T15:30:51.611Z"
   },
   {
    "duration": 16,
    "start_time": "2021-08-20T15:31:11.281Z"
   },
   {
    "duration": 12,
    "start_time": "2021-08-20T15:31:42.119Z"
   },
   {
    "duration": 9,
    "start_time": "2021-08-20T15:33:20.695Z"
   },
   {
    "duration": 10,
    "start_time": "2021-08-20T15:34:07.909Z"
   },
   {
    "duration": 522,
    "start_time": "2021-08-20T15:47:15.307Z"
   },
   {
    "duration": 7,
    "start_time": "2021-08-20T15:59:58.043Z"
   },
   {
    "duration": 86,
    "start_time": "2021-08-20T15:59:58.054Z"
   },
   {
    "duration": 15,
    "start_time": "2021-08-20T15:59:58.144Z"
   },
   {
    "duration": 12,
    "start_time": "2021-08-20T15:59:58.162Z"
   },
   {
    "duration": 10,
    "start_time": "2021-08-20T15:59:58.177Z"
   },
   {
    "duration": 20,
    "start_time": "2021-08-20T15:59:58.189Z"
   },
   {
    "duration": 51,
    "start_time": "2021-08-20T15:59:58.211Z"
   },
   {
    "duration": 22,
    "start_time": "2021-08-20T15:59:58.265Z"
   },
   {
    "duration": 10,
    "start_time": "2021-08-20T15:59:58.290Z"
   },
   {
    "duration": 16,
    "start_time": "2021-08-20T15:59:58.302Z"
   },
   {
    "duration": 48,
    "start_time": "2021-08-20T15:59:58.320Z"
   },
   {
    "duration": 9,
    "start_time": "2021-08-20T15:59:58.371Z"
   },
   {
    "duration": 13,
    "start_time": "2021-08-20T15:59:58.382Z"
   },
   {
    "duration": 14,
    "start_time": "2021-08-20T15:59:58.397Z"
   },
   {
    "duration": 51,
    "start_time": "2021-08-20T15:59:58.414Z"
   },
   {
    "duration": 11,
    "start_time": "2021-08-20T15:59:58.468Z"
   },
   {
    "duration": 12,
    "start_time": "2021-08-20T15:59:58.482Z"
   },
   {
    "duration": 89,
    "start_time": "2021-08-20T15:59:58.499Z"
   },
   {
    "duration": 36,
    "start_time": "2021-08-20T15:59:58.592Z"
   },
   {
    "duration": 31,
    "start_time": "2021-08-20T15:59:58.631Z"
   },
   {
    "duration": 46,
    "start_time": "2021-08-20T15:59:58.665Z"
   },
   {
    "duration": 459,
    "start_time": "2021-08-20T15:59:58.721Z"
   },
   {
    "duration": 9734,
    "start_time": "2021-08-20T16:13:32.239Z"
   },
   {
    "duration": 9288,
    "start_time": "2021-08-20T16:14:35.806Z"
   },
   {
    "duration": 987,
    "start_time": "2021-08-20T16:24:23.002Z"
   },
   {
    "duration": 905,
    "start_time": "2021-08-20T16:26:46.308Z"
   },
   {
    "duration": 890,
    "start_time": "2021-08-20T16:26:58.465Z"
   },
   {
    "duration": 960,
    "start_time": "2021-08-20T16:27:57.991Z"
   },
   {
    "duration": 430,
    "start_time": "2021-08-20T16:32:24.456Z"
   },
   {
    "duration": 333,
    "start_time": "2021-08-20T16:32:30.259Z"
   },
   {
    "duration": 391,
    "start_time": "2021-08-20T16:59:27.915Z"
   },
   {
    "duration": 384,
    "start_time": "2021-08-20T17:00:16.196Z"
   },
   {
    "duration": 9069,
    "start_time": "2021-08-20T17:15:56.924Z"
   },
   {
    "duration": 342,
    "start_time": "2021-08-20T17:16:25.141Z"
   },
   {
    "duration": 322,
    "start_time": "2021-08-20T17:16:30.324Z"
   },
   {
    "duration": 17,
    "start_time": "2021-08-20T17:20:37.555Z"
   },
   {
    "duration": 7,
    "start_time": "2021-08-20T17:28:54.319Z"
   },
   {
    "duration": 15,
    "start_time": "2021-08-20T17:29:07.206Z"
   },
   {
    "duration": 210,
    "start_time": "2021-08-20T17:29:30.574Z"
   },
   {
    "duration": 555,
    "start_time": "2021-08-20T17:33:06.371Z"
   },
   {
    "duration": 1648,
    "start_time": "2021-08-20T17:33:33.203Z"
   },
   {
    "duration": 189,
    "start_time": "2021-08-20T17:33:56.361Z"
   },
   {
    "duration": 274,
    "start_time": "2021-08-20T17:34:17.814Z"
   },
   {
    "duration": 197,
    "start_time": "2021-08-20T17:34:32.688Z"
   },
   {
    "duration": 216,
    "start_time": "2021-08-20T17:34:38.661Z"
   },
   {
    "duration": 196,
    "start_time": "2021-08-20T17:34:40.187Z"
   },
   {
    "duration": 206,
    "start_time": "2021-08-20T17:34:41.378Z"
   },
   {
    "duration": 200,
    "start_time": "2021-08-20T17:34:42.205Z"
   },
   {
    "duration": 229,
    "start_time": "2021-08-20T17:34:43.074Z"
   },
   {
    "duration": 204,
    "start_time": "2021-08-20T17:34:46.163Z"
   },
   {
    "duration": 196,
    "start_time": "2021-08-20T17:34:53.371Z"
   },
   {
    "duration": 367,
    "start_time": "2021-08-20T17:36:29.214Z"
   },
   {
    "duration": 416,
    "start_time": "2021-08-20T17:37:53.017Z"
   },
   {
    "duration": 383,
    "start_time": "2021-08-20T17:38:06.111Z"
   },
   {
    "duration": 375,
    "start_time": "2021-08-20T17:39:33.557Z"
   },
   {
    "duration": 8,
    "start_time": "2021-08-20T17:39:43.388Z"
   },
   {
    "duration": 353,
    "start_time": "2021-08-20T17:42:17.823Z"
   },
   {
    "duration": 6,
    "start_time": "2021-08-20T17:42:36.118Z"
   },
   {
    "duration": 7,
    "start_time": "2021-08-20T17:48:52.032Z"
   },
   {
    "duration": 18,
    "start_time": "2021-08-20T17:56:15.457Z"
   },
   {
    "duration": 436,
    "start_time": "2021-08-20T17:57:11.322Z"
   },
   {
    "duration": 417,
    "start_time": "2021-08-20T17:57:39.264Z"
   },
   {
    "duration": 9,
    "start_time": "2021-08-20T18:14:28.534Z"
   },
   {
    "duration": 7,
    "start_time": "2021-08-20T18:17:11.080Z"
   },
   {
    "duration": 129,
    "start_time": "2021-08-20T18:21:58.350Z"
   },
   {
    "duration": 6,
    "start_time": "2021-08-20T18:22:04.324Z"
   },
   {
    "duration": 6,
    "start_time": "2021-08-20T18:22:14.381Z"
   },
   {
    "duration": 7,
    "start_time": "2021-08-20T18:22:28.943Z"
   },
   {
    "duration": 422,
    "start_time": "2021-08-21T04:26:23.280Z"
   },
   {
    "duration": 1922,
    "start_time": "2021-08-21T04:26:50.448Z"
   },
   {
    "duration": 5,
    "start_time": "2021-08-21T04:26:59.298Z"
   },
   {
    "duration": 94,
    "start_time": "2021-08-21T04:26:59.307Z"
   },
   {
    "duration": 14,
    "start_time": "2021-08-21T04:26:59.404Z"
   },
   {
    "duration": 9,
    "start_time": "2021-08-21T04:26:59.421Z"
   },
   {
    "duration": 9,
    "start_time": "2021-08-21T04:26:59.432Z"
   },
   {
    "duration": 57,
    "start_time": "2021-08-21T04:26:59.443Z"
   },
   {
    "duration": 12,
    "start_time": "2021-08-21T04:26:59.503Z"
   },
   {
    "duration": 8,
    "start_time": "2021-08-21T04:26:59.519Z"
   },
   {
    "duration": 10,
    "start_time": "2021-08-21T04:26:59.530Z"
   },
   {
    "duration": 59,
    "start_time": "2021-08-21T04:26:59.542Z"
   },
   {
    "duration": 15,
    "start_time": "2021-08-21T04:26:59.604Z"
   },
   {
    "duration": 11,
    "start_time": "2021-08-21T04:26:59.622Z"
   },
   {
    "duration": 10,
    "start_time": "2021-08-21T04:26:59.636Z"
   },
   {
    "duration": 60,
    "start_time": "2021-08-21T04:26:59.649Z"
   },
   {
    "duration": 18,
    "start_time": "2021-08-21T04:26:59.712Z"
   },
   {
    "duration": 12,
    "start_time": "2021-08-21T04:26:59.733Z"
   },
   {
    "duration": 8,
    "start_time": "2021-08-21T04:26:59.748Z"
   },
   {
    "duration": 46,
    "start_time": "2021-08-21T04:26:59.758Z"
   },
   {
    "duration": 24,
    "start_time": "2021-08-21T04:26:59.807Z"
   },
   {
    "duration": 17,
    "start_time": "2021-08-21T04:26:59.834Z"
   },
   {
    "duration": 50,
    "start_time": "2021-08-21T04:26:59.853Z"
   },
   {
    "duration": 419,
    "start_time": "2021-08-21T04:26:59.906Z"
   },
   {
    "duration": 954,
    "start_time": "2021-08-21T04:27:00.329Z"
   },
   {
    "duration": 373,
    "start_time": "2021-08-21T04:27:01.287Z"
   },
   {
    "duration": 462,
    "start_time": "2021-08-21T04:27:01.663Z"
   },
   {
    "duration": 354,
    "start_time": "2021-08-21T04:27:02.127Z"
   },
   {
    "duration": 28,
    "start_time": "2021-08-21T04:27:02.484Z"
   },
   {
    "duration": 221,
    "start_time": "2021-08-21T04:27:02.515Z"
   },
   {
    "duration": 408,
    "start_time": "2021-08-21T04:27:02.738Z"
   },
   {
    "duration": 9,
    "start_time": "2021-08-21T04:27:03.150Z"
   },
   {
    "duration": 10,
    "start_time": "2021-08-21T04:27:03.162Z"
   },
   {
    "duration": 538,
    "start_time": "2021-08-21T04:27:03.202Z"
   },
   {
    "duration": 9,
    "start_time": "2021-08-21T04:27:03.743Z"
   },
   {
    "duration": 9,
    "start_time": "2021-08-21T04:27:03.754Z"
   },
   {
    "duration": 36,
    "start_time": "2021-08-21T04:27:03.766Z"
   },
   {
    "duration": 8,
    "start_time": "2021-08-21T04:35:56.444Z"
   },
   {
    "duration": 17,
    "start_time": "2021-08-21T04:43:46.332Z"
   },
   {
    "duration": 534,
    "start_time": "2021-08-21T05:15:37.955Z"
   },
   {
    "duration": 502,
    "start_time": "2021-08-21T05:16:17.227Z"
   },
   {
    "duration": 203,
    "start_time": "2021-08-21T05:16:47.968Z"
   },
   {
    "duration": 232,
    "start_time": "2021-08-21T05:20:33.577Z"
   },
   {
    "duration": 12,
    "start_time": "2021-08-21T05:20:52.494Z"
   },
   {
    "duration": 6,
    "start_time": "2021-08-21T05:21:16.688Z"
   },
   {
    "duration": 6,
    "start_time": "2021-08-21T05:23:11.704Z"
   },
   {
    "duration": 11,
    "start_time": "2021-08-21T05:30:16.500Z"
   },
   {
    "duration": 11,
    "start_time": "2021-08-21T05:30:18.241Z"
   },
   {
    "duration": 9284,
    "start_time": "2021-08-21T06:08:59.728Z"
   },
   {
    "duration": 11,
    "start_time": "2021-08-21T06:09:29.144Z"
   },
   {
    "duration": 12,
    "start_time": "2021-08-21T06:09:57.970Z"
   },
   {
    "duration": 215,
    "start_time": "2021-08-21T06:10:25.882Z"
   },
   {
    "duration": 14,
    "start_time": "2021-08-21T06:11:01.641Z"
   },
   {
    "duration": 14,
    "start_time": "2021-08-21T06:18:13.625Z"
   },
   {
    "duration": 10,
    "start_time": "2021-08-21T06:19:47.691Z"
   },
   {
    "duration": 8,
    "start_time": "2021-08-21T06:19:55.963Z"
   },
   {
    "duration": 6,
    "start_time": "2021-08-21T06:19:57.363Z"
   },
   {
    "duration": 12,
    "start_time": "2021-08-21T06:34:47.961Z"
   },
   {
    "duration": 10,
    "start_time": "2021-08-21T06:34:56.958Z"
   },
   {
    "duration": 7,
    "start_time": "2021-08-21T06:35:33.217Z"
   },
   {
    "duration": 153,
    "start_time": "2021-08-21T06:35:49.509Z"
   },
   {
    "duration": 125,
    "start_time": "2021-08-21T06:36:09.860Z"
   },
   {
    "duration": 12,
    "start_time": "2021-08-21T06:36:20.324Z"
   },
   {
    "duration": 15,
    "start_time": "2021-08-21T06:37:14.086Z"
   },
   {
    "duration": 514,
    "start_time": "2021-08-21T06:37:49.197Z"
   },
   {
    "duration": 13,
    "start_time": "2021-08-21T06:37:50.966Z"
   },
   {
    "duration": 8,
    "start_time": "2021-08-21T06:37:52.125Z"
   },
   {
    "duration": 11,
    "start_time": "2021-08-21T06:37:53.223Z"
   },
   {
    "duration": 216,
    "start_time": "2021-08-21T06:41:45.634Z"
   },
   {
    "duration": 7,
    "start_time": "2021-08-21T06:41:52.856Z"
   },
   {
    "duration": 9,
    "start_time": "2021-08-21T06:42:06.553Z"
   },
   {
    "duration": 7,
    "start_time": "2021-08-21T06:42:08.362Z"
   },
   {
    "duration": 11,
    "start_time": "2021-08-21T06:42:44.299Z"
   },
   {
    "duration": 14,
    "start_time": "2021-08-21T06:43:12.682Z"
   },
   {
    "duration": 1479,
    "start_time": "2021-08-21T06:45:39.693Z"
   },
   {
    "duration": 15,
    "start_time": "2021-08-21T06:46:20.095Z"
   },
   {
    "duration": 366,
    "start_time": "2021-08-21T07:13:16.271Z"
   },
   {
    "duration": 10,
    "start_time": "2021-08-21T07:13:19.993Z"
   },
   {
    "duration": 7,
    "start_time": "2021-08-21T07:13:21.393Z"
   },
   {
    "duration": 15,
    "start_time": "2021-08-21T07:16:03.146Z"
   },
   {
    "duration": 14,
    "start_time": "2021-08-21T07:16:05.291Z"
   },
   {
    "duration": 11,
    "start_time": "2021-08-21T07:18:23.589Z"
   },
   {
    "duration": 12,
    "start_time": "2021-08-21T07:18:39.590Z"
   },
   {
    "duration": 16,
    "start_time": "2021-08-21T07:19:38.374Z"
   },
   {
    "duration": 14,
    "start_time": "2021-08-21T07:20:16.294Z"
   },
   {
    "duration": 13,
    "start_time": "2021-08-21T07:20:48.447Z"
   },
   {
    "duration": 16,
    "start_time": "2021-08-21T07:24:36.492Z"
   },
   {
    "duration": 6,
    "start_time": "2021-08-21T07:31:24.602Z"
   },
   {
    "duration": 98,
    "start_time": "2021-08-21T07:31:24.610Z"
   },
   {
    "duration": 10,
    "start_time": "2021-08-21T07:31:24.711Z"
   },
   {
    "duration": 10,
    "start_time": "2021-08-21T07:31:24.724Z"
   },
   {
    "duration": 13,
    "start_time": "2021-08-21T07:31:24.737Z"
   },
   {
    "duration": 47,
    "start_time": "2021-08-21T07:31:24.753Z"
   },
   {
    "duration": 12,
    "start_time": "2021-08-21T07:31:24.803Z"
   },
   {
    "duration": 16,
    "start_time": "2021-08-21T07:31:24.819Z"
   },
   {
    "duration": 11,
    "start_time": "2021-08-21T07:31:24.838Z"
   },
   {
    "duration": 50,
    "start_time": "2021-08-21T07:31:24.851Z"
   },
   {
    "duration": 12,
    "start_time": "2021-08-21T07:31:24.904Z"
   },
   {
    "duration": 8,
    "start_time": "2021-08-21T07:31:24.919Z"
   },
   {
    "duration": 7,
    "start_time": "2021-08-21T07:31:24.930Z"
   },
   {
    "duration": 11,
    "start_time": "2021-08-21T07:31:24.940Z"
   },
   {
    "duration": 57,
    "start_time": "2021-08-21T07:31:24.953Z"
   },
   {
    "duration": 11,
    "start_time": "2021-08-21T07:31:25.012Z"
   },
   {
    "duration": 9,
    "start_time": "2021-08-21T07:31:25.026Z"
   },
   {
    "duration": 14,
    "start_time": "2021-08-21T07:31:25.037Z"
   },
   {
    "duration": 52,
    "start_time": "2021-08-21T07:31:25.054Z"
   },
   {
    "duration": 19,
    "start_time": "2021-08-21T07:31:25.108Z"
   },
   {
    "duration": 26,
    "start_time": "2021-08-21T07:31:25.129Z"
   },
   {
    "duration": 450,
    "start_time": "2021-08-21T07:31:25.157Z"
   },
   {
    "duration": 1522,
    "start_time": "2021-08-21T07:31:25.616Z"
   },
   {
    "duration": 336,
    "start_time": "2021-08-21T07:31:27.142Z"
   },
   {
    "duration": 433,
    "start_time": "2021-08-21T07:31:27.481Z"
   },
   {
    "duration": 336,
    "start_time": "2021-08-21T07:31:27.917Z"
   },
   {
    "duration": 18,
    "start_time": "2021-08-21T07:31:28.256Z"
   },
   {
    "duration": 219,
    "start_time": "2021-08-21T07:31:28.276Z"
   },
   {
    "duration": 449,
    "start_time": "2021-08-21T07:31:28.501Z"
   },
   {
    "duration": 10,
    "start_time": "2021-08-21T07:31:28.952Z"
   },
   {
    "duration": 14,
    "start_time": "2021-08-21T07:31:28.965Z"
   },
   {
    "duration": 436,
    "start_time": "2021-08-21T07:31:28.982Z"
   },
   {
    "duration": 11,
    "start_time": "2021-08-21T07:31:29.421Z"
   },
   {
    "duration": 8,
    "start_time": "2021-08-21T07:31:29.435Z"
   },
   {
    "duration": 285,
    "start_time": "2021-08-21T07:31:29.446Z"
   },
   {
    "duration": 12,
    "start_time": "2021-08-21T07:31:29.733Z"
   },
   {
    "duration": 7,
    "start_time": "2021-08-21T07:31:29.748Z"
   },
   {
    "duration": 44,
    "start_time": "2021-08-21T07:31:29.758Z"
   },
   {
    "duration": 15,
    "start_time": "2021-08-21T07:31:29.804Z"
   },
   {
    "duration": 14,
    "start_time": "2021-08-21T07:31:29.822Z"
   },
   {
    "duration": 13,
    "start_time": "2021-08-21T07:31:29.838Z"
   },
   {
    "duration": 15,
    "start_time": "2021-08-21T07:31:29.854Z"
   },
   {
    "duration": 5,
    "start_time": "2021-08-21T07:31:29.901Z"
   },
   {
    "duration": 14,
    "start_time": "2021-08-21T07:31:29.909Z"
   },
   {
    "duration": 17,
    "start_time": "2021-08-21T07:31:29.925Z"
   },
   {
    "duration": 13,
    "start_time": "2021-08-21T07:31:29.944Z"
   },
   {
    "duration": 46,
    "start_time": "2021-08-21T07:31:29.959Z"
   },
   {
    "duration": 524,
    "start_time": "2021-08-21T07:44:50.470Z"
   },
   {
    "duration": 449,
    "start_time": "2021-08-21T07:47:00.456Z"
   },
   {
    "duration": 444,
    "start_time": "2021-08-21T07:47:57.067Z"
   },
   {
    "duration": 21,
    "start_time": "2021-08-21T07:48:28.431Z"
   },
   {
    "duration": 19,
    "start_time": "2021-08-21T07:48:34.692Z"
   },
   {
    "duration": 14,
    "start_time": "2021-08-21T07:48:45.103Z"
   },
   {
    "duration": 466,
    "start_time": "2021-08-21T07:49:22.668Z"
   },
   {
    "duration": 438,
    "start_time": "2021-08-21T07:49:37.596Z"
   },
   {
    "duration": 492,
    "start_time": "2021-08-21T07:50:30.773Z"
   },
   {
    "duration": 12,
    "start_time": "2021-08-21T07:57:52.474Z"
   },
   {
    "duration": 535,
    "start_time": "2021-08-21T08:14:14.623Z"
   },
   {
    "duration": 1896,
    "start_time": "2021-08-21T18:11:55.575Z"
   },
   {
    "duration": 58,
    "start_time": "2021-08-21T18:11:57.475Z"
   },
   {
    "duration": 14,
    "start_time": "2021-08-21T18:11:57.536Z"
   },
   {
    "duration": 9,
    "start_time": "2021-08-21T18:11:57.552Z"
   },
   {
    "duration": 12,
    "start_time": "2021-08-21T18:11:57.563Z"
   },
   {
    "duration": 16,
    "start_time": "2021-08-21T18:11:57.577Z"
   },
   {
    "duration": 14,
    "start_time": "2021-08-21T18:11:57.596Z"
   },
   {
    "duration": 11,
    "start_time": "2021-08-21T18:11:57.612Z"
   },
   {
    "duration": 7,
    "start_time": "2021-08-21T18:11:57.627Z"
   },
   {
    "duration": 47,
    "start_time": "2021-08-21T18:11:57.638Z"
   },
   {
    "duration": 16,
    "start_time": "2021-08-21T18:11:57.688Z"
   },
   {
    "duration": 9,
    "start_time": "2021-08-21T18:11:57.706Z"
   },
   {
    "duration": 16,
    "start_time": "2021-08-21T18:11:57.717Z"
   },
   {
    "duration": 51,
    "start_time": "2021-08-21T18:11:57.735Z"
   },
   {
    "duration": 18,
    "start_time": "2021-08-21T18:11:57.789Z"
   },
   {
    "duration": 13,
    "start_time": "2021-08-21T18:11:57.809Z"
   },
   {
    "duration": 12,
    "start_time": "2021-08-21T18:11:57.824Z"
   },
   {
    "duration": 43,
    "start_time": "2021-08-21T18:11:57.839Z"
   },
   {
    "duration": 18,
    "start_time": "2021-08-21T18:11:57.885Z"
   },
   {
    "duration": 18,
    "start_time": "2021-08-21T18:11:57.905Z"
   },
   {
    "duration": 57,
    "start_time": "2021-08-21T18:11:57.925Z"
   },
   {
    "duration": 413,
    "start_time": "2021-08-21T18:11:57.985Z"
   },
   {
    "duration": 871,
    "start_time": "2021-08-21T18:11:58.401Z"
   },
   {
    "duration": 310,
    "start_time": "2021-08-21T18:11:59.283Z"
   },
   {
    "duration": 387,
    "start_time": "2021-08-21T18:11:59.595Z"
   },
   {
    "duration": 338,
    "start_time": "2021-08-21T18:11:59.984Z"
   },
   {
    "duration": 483,
    "start_time": "2021-08-21T18:12:00.328Z"
   },
   {
    "duration": 16,
    "start_time": "2021-08-21T18:12:00.814Z"
   },
   {
    "duration": 186,
    "start_time": "2021-08-21T18:12:00.832Z"
   },
   {
    "duration": 484,
    "start_time": "2021-08-21T18:12:01.021Z"
   },
   {
    "duration": 8,
    "start_time": "2021-08-21T18:12:01.507Z"
   },
   {
    "duration": 16,
    "start_time": "2021-08-21T18:12:01.517Z"
   },
   {
    "duration": 494,
    "start_time": "2021-08-21T18:12:01.536Z"
   },
   {
    "duration": 9,
    "start_time": "2021-08-21T18:12:02.032Z"
   },
   {
    "duration": 11,
    "start_time": "2021-08-21T18:12:02.044Z"
   },
   {
    "duration": 244,
    "start_time": "2021-08-21T18:12:02.058Z"
   },
   {
    "duration": 9,
    "start_time": "2021-08-21T18:12:02.304Z"
   },
   {
    "duration": 7,
    "start_time": "2021-08-21T18:12:02.316Z"
   },
   {
    "duration": 22,
    "start_time": "2021-08-21T18:12:02.325Z"
   },
   {
    "duration": 40,
    "start_time": "2021-08-21T18:12:02.349Z"
   },
   {
    "duration": 17,
    "start_time": "2021-08-21T18:12:02.392Z"
   },
   {
    "duration": 38,
    "start_time": "2021-08-21T18:12:02.411Z"
   },
   {
    "duration": 16,
    "start_time": "2021-08-21T18:12:02.451Z"
   },
   {
    "duration": 13,
    "start_time": "2021-08-21T18:12:02.469Z"
   },
   {
    "duration": 21,
    "start_time": "2021-08-21T18:12:02.484Z"
   },
   {
    "duration": 23,
    "start_time": "2021-08-21T18:12:02.508Z"
   },
   {
    "duration": 33,
    "start_time": "2021-08-21T18:12:02.533Z"
   },
   {
    "duration": 18,
    "start_time": "2021-08-21T18:12:02.569Z"
   },
   {
    "duration": 853,
    "start_time": "2021-08-21T18:23:47.931Z"
   },
   {
    "duration": 904,
    "start_time": "2021-08-21T18:23:57.960Z"
   },
   {
    "duration": 397,
    "start_time": "2021-08-21T18:52:42.137Z"
   },
   {
    "duration": 5,
    "start_time": "2021-08-21T18:57:08.909Z"
   },
   {
    "duration": 58,
    "start_time": "2021-08-21T18:57:08.917Z"
   },
   {
    "duration": 10,
    "start_time": "2021-08-21T18:57:08.978Z"
   },
   {
    "duration": 10,
    "start_time": "2021-08-21T18:57:08.990Z"
   },
   {
    "duration": 9,
    "start_time": "2021-08-21T18:57:09.002Z"
   },
   {
    "duration": 17,
    "start_time": "2021-08-21T18:57:09.013Z"
   },
   {
    "duration": 51,
    "start_time": "2021-08-21T18:57:09.033Z"
   },
   {
    "duration": 8,
    "start_time": "2021-08-21T18:57:09.088Z"
   },
   {
    "duration": 14,
    "start_time": "2021-08-21T18:57:09.100Z"
   },
   {
    "duration": 17,
    "start_time": "2021-08-21T18:57:09.117Z"
   },
   {
    "duration": 55,
    "start_time": "2021-08-21T18:57:09.137Z"
   },
   {
    "duration": 12,
    "start_time": "2021-08-21T18:57:09.195Z"
   },
   {
    "duration": 11,
    "start_time": "2021-08-21T18:57:09.209Z"
   },
   {
    "duration": 13,
    "start_time": "2021-08-21T18:57:09.222Z"
   },
   {
    "duration": 54,
    "start_time": "2021-08-21T18:57:09.238Z"
   },
   {
    "duration": 11,
    "start_time": "2021-08-21T18:57:09.295Z"
   },
   {
    "duration": 9,
    "start_time": "2021-08-21T18:57:09.309Z"
   },
   {
    "duration": 13,
    "start_time": "2021-08-21T18:57:09.321Z"
   },
   {
    "duration": 58,
    "start_time": "2021-08-21T18:57:09.336Z"
   },
   {
    "duration": 27,
    "start_time": "2021-08-21T18:57:09.397Z"
   },
   {
    "duration": 33,
    "start_time": "2021-08-21T18:57:09.427Z"
   },
   {
    "duration": 440,
    "start_time": "2021-08-21T18:57:09.463Z"
   },
   {
    "duration": 868,
    "start_time": "2021-08-21T18:57:09.907Z"
   },
   {
    "duration": 307,
    "start_time": "2021-08-21T18:57:10.782Z"
   },
   {
    "duration": 402,
    "start_time": "2021-08-21T18:57:11.092Z"
   },
   {
    "duration": 310,
    "start_time": "2021-08-21T18:57:11.497Z"
   },
   {
    "duration": 417,
    "start_time": "2021-08-21T18:57:11.809Z"
   },
   {
    "duration": 17,
    "start_time": "2021-08-21T18:57:12.228Z"
   },
   {
    "duration": 177,
    "start_time": "2021-08-21T18:57:12.247Z"
   },
   {
    "duration": 398,
    "start_time": "2021-08-21T18:57:12.426Z"
   },
   {
    "duration": 7,
    "start_time": "2021-08-21T18:57:12.827Z"
   },
   {
    "duration": 10,
    "start_time": "2021-08-21T18:57:12.836Z"
   },
   {
    "duration": 440,
    "start_time": "2021-08-21T18:57:12.848Z"
   },
   {
    "duration": 9,
    "start_time": "2021-08-21T18:57:13.290Z"
   },
   {
    "duration": 8,
    "start_time": "2021-08-21T18:57:13.301Z"
   },
   {
    "duration": 7,
    "start_time": "2021-08-21T18:57:20.632Z"
   },
   {
    "duration": 6,
    "start_time": "2021-08-21T18:57:34.868Z"
   },
   {
    "duration": 5,
    "start_time": "2021-08-21T18:57:42.493Z"
   },
   {
    "duration": 5,
    "start_time": "2021-08-21T18:58:34.635Z"
   },
   {
    "duration": 6,
    "start_time": "2021-08-21T19:06:33.218Z"
   },
   {
    "duration": 6,
    "start_time": "2021-08-21T19:06:42.050Z"
   },
   {
    "duration": 7,
    "start_time": "2021-08-21T19:06:45.954Z"
   },
   {
    "duration": 16,
    "start_time": "2021-08-21T19:06:55.667Z"
   },
   {
    "duration": 14,
    "start_time": "2021-08-21T19:07:02.678Z"
   },
   {
    "duration": 85,
    "start_time": "2021-08-21T20:23:36.001Z"
   },
   {
    "duration": 1876,
    "start_time": "2021-08-22T03:14:53.652Z"
   },
   {
    "duration": 58,
    "start_time": "2021-08-22T03:14:55.530Z"
   },
   {
    "duration": 15,
    "start_time": "2021-08-22T03:14:55.591Z"
   },
   {
    "duration": 8,
    "start_time": "2021-08-22T03:14:55.609Z"
   },
   {
    "duration": 11,
    "start_time": "2021-08-22T03:14:55.620Z"
   },
   {
    "duration": 50,
    "start_time": "2021-08-22T03:14:55.634Z"
   },
   {
    "duration": 14,
    "start_time": "2021-08-22T03:14:55.687Z"
   },
   {
    "duration": 11,
    "start_time": "2021-08-22T03:14:55.707Z"
   },
   {
    "duration": 11,
    "start_time": "2021-08-22T03:14:55.722Z"
   },
   {
    "duration": 51,
    "start_time": "2021-08-22T03:14:55.736Z"
   },
   {
    "duration": 15,
    "start_time": "2021-08-22T03:14:55.790Z"
   },
   {
    "duration": 11,
    "start_time": "2021-08-22T03:14:55.807Z"
   },
   {
    "duration": 11,
    "start_time": "2021-08-22T03:14:55.821Z"
   },
   {
    "duration": 53,
    "start_time": "2021-08-22T03:14:55.835Z"
   },
   {
    "duration": 25,
    "start_time": "2021-08-22T03:14:55.892Z"
   },
   {
    "duration": 9,
    "start_time": "2021-08-22T03:14:55.920Z"
   },
   {
    "duration": 8,
    "start_time": "2021-08-22T03:14:55.933Z"
   },
   {
    "duration": 41,
    "start_time": "2021-08-22T03:14:55.944Z"
   },
   {
    "duration": 21,
    "start_time": "2021-08-22T03:14:55.988Z"
   },
   {
    "duration": 17,
    "start_time": "2021-08-22T03:14:56.012Z"
   },
   {
    "duration": 62,
    "start_time": "2021-08-22T03:14:56.032Z"
   },
   {
    "duration": 383,
    "start_time": "2021-08-22T03:14:56.097Z"
   },
   {
    "duration": 867,
    "start_time": "2021-08-22T03:14:56.486Z"
   },
   {
    "duration": 302,
    "start_time": "2021-08-22T03:14:57.356Z"
   },
   {
    "duration": 450,
    "start_time": "2021-08-22T03:14:57.661Z"
   },
   {
    "duration": 344,
    "start_time": "2021-08-22T03:14:58.114Z"
   },
   {
    "duration": 452,
    "start_time": "2021-08-22T03:14:58.461Z"
   },
   {
    "duration": 16,
    "start_time": "2021-08-22T03:14:58.916Z"
   },
   {
    "duration": 202,
    "start_time": "2021-08-22T03:14:58.934Z"
   },
   {
    "duration": 458,
    "start_time": "2021-08-22T03:14:59.138Z"
   },
   {
    "duration": 8,
    "start_time": "2021-08-22T03:14:59.598Z"
   },
   {
    "duration": 8,
    "start_time": "2021-08-22T03:14:59.608Z"
   },
   {
    "duration": 578,
    "start_time": "2021-08-22T03:14:59.619Z"
   },
   {
    "duration": 12,
    "start_time": "2021-08-22T03:15:00.200Z"
   },
   {
    "duration": 16,
    "start_time": "2021-08-22T03:15:00.215Z"
   },
   {
    "duration": 322,
    "start_time": "2021-08-22T03:15:00.284Z"
   },
   {
    "duration": 12,
    "start_time": "2021-08-22T03:15:00.609Z"
   },
   {
    "duration": 6,
    "start_time": "2021-08-22T03:15:00.624Z"
   },
   {
    "duration": 9,
    "start_time": "2021-08-22T03:15:00.633Z"
   },
   {
    "duration": 47,
    "start_time": "2021-08-22T03:15:00.645Z"
   },
   {
    "duration": 11,
    "start_time": "2021-08-22T03:15:00.695Z"
   },
   {
    "duration": 20,
    "start_time": "2021-08-22T03:15:00.708Z"
   },
   {
    "duration": 18,
    "start_time": "2021-08-22T03:15:00.730Z"
   },
   {
    "duration": 38,
    "start_time": "2021-08-22T03:15:00.750Z"
   },
   {
    "duration": 6,
    "start_time": "2021-08-22T03:15:00.791Z"
   },
   {
    "duration": 13,
    "start_time": "2021-08-22T03:15:00.799Z"
   },
   {
    "duration": 18,
    "start_time": "2021-08-22T03:15:00.814Z"
   },
   {
    "duration": 12,
    "start_time": "2021-08-22T03:15:00.835Z"
   },
   {
    "duration": 13,
    "start_time": "2021-08-22T03:15:00.883Z"
   },
   {
    "duration": 301,
    "start_time": "2021-08-22T03:15:40.308Z"
   },
   {
    "duration": 430,
    "start_time": "2021-08-22T03:16:34.237Z"
   },
   {
    "duration": 401,
    "start_time": "2021-08-22T03:17:26.727Z"
   },
   {
    "duration": 304,
    "start_time": "2021-08-22T03:17:53.503Z"
   },
   {
    "duration": 423,
    "start_time": "2021-08-22T03:18:05.025Z"
   },
   {
    "duration": 12,
    "start_time": "2021-08-22T03:21:59.865Z"
   },
   {
    "duration": 362,
    "start_time": "2021-08-22T03:40:00.829Z"
   },
   {
    "duration": 387,
    "start_time": "2021-08-22T03:40:11.244Z"
   },
   {
    "duration": 352,
    "start_time": "2021-08-22T03:40:27.133Z"
   },
   {
    "duration": 398,
    "start_time": "2021-08-22T03:40:39.381Z"
   },
   {
    "duration": 365,
    "start_time": "2021-08-22T03:41:22.721Z"
   },
   {
    "duration": 351,
    "start_time": "2021-08-22T03:41:33.928Z"
   },
   {
    "duration": 15,
    "start_time": "2021-08-22T03:51:57.593Z"
   },
   {
    "duration": 442,
    "start_time": "2021-08-22T03:54:00.438Z"
   },
   {
    "duration": 387,
    "start_time": "2021-08-22T03:54:08.101Z"
   },
   {
    "duration": 14,
    "start_time": "2021-08-22T03:56:24.470Z"
   },
   {
    "duration": 5,
    "start_time": "2021-08-22T05:59:11.826Z"
   },
   {
    "duration": 59,
    "start_time": "2021-08-22T05:59:11.834Z"
   },
   {
    "duration": 11,
    "start_time": "2021-08-22T05:59:11.896Z"
   },
   {
    "duration": 8,
    "start_time": "2021-08-22T05:59:11.910Z"
   },
   {
    "duration": 8,
    "start_time": "2021-08-22T05:59:11.921Z"
   },
   {
    "duration": 53,
    "start_time": "2021-08-22T05:59:11.931Z"
   },
   {
    "duration": 138,
    "start_time": "2021-08-22T05:59:11.986Z"
   },
   {
    "duration": 9,
    "start_time": "2021-08-22T05:59:12.127Z"
   },
   {
    "duration": 9,
    "start_time": "2021-08-22T05:59:12.139Z"
   },
   {
    "duration": 45,
    "start_time": "2021-08-22T05:59:12.150Z"
   },
   {
    "duration": 16,
    "start_time": "2021-08-22T05:59:12.197Z"
   },
   {
    "duration": 9,
    "start_time": "2021-08-22T05:59:12.215Z"
   },
   {
    "duration": 13,
    "start_time": "2021-08-22T05:59:12.226Z"
   },
   {
    "duration": 42,
    "start_time": "2021-08-22T05:59:12.241Z"
   },
   {
    "duration": 16,
    "start_time": "2021-08-22T05:59:12.285Z"
   },
   {
    "duration": 9,
    "start_time": "2021-08-22T05:59:12.303Z"
   },
   {
    "duration": 11,
    "start_time": "2021-08-22T05:59:12.314Z"
   },
   {
    "duration": 11,
    "start_time": "2021-08-22T05:59:12.327Z"
   },
   {
    "duration": 57,
    "start_time": "2021-08-22T05:59:12.340Z"
   },
   {
    "duration": 20,
    "start_time": "2021-08-22T05:59:12.399Z"
   },
   {
    "duration": 26,
    "start_time": "2021-08-22T05:59:12.422Z"
   },
   {
    "duration": 432,
    "start_time": "2021-08-22T05:59:12.451Z"
   },
   {
    "duration": 902,
    "start_time": "2021-08-22T05:59:12.890Z"
   },
   {
    "duration": 342,
    "start_time": "2021-08-22T05:59:13.796Z"
   },
   {
    "duration": 433,
    "start_time": "2021-08-22T05:59:14.141Z"
   },
   {
    "duration": 326,
    "start_time": "2021-08-22T05:59:14.581Z"
   },
   {
    "duration": 499,
    "start_time": "2021-08-22T05:59:14.910Z"
   },
   {
    "duration": 12,
    "start_time": "2021-08-22T05:59:15.412Z"
   },
   {
    "duration": 209,
    "start_time": "2021-08-22T05:59:15.427Z"
   },
   {
    "duration": 399,
    "start_time": "2021-08-22T05:59:15.639Z"
   },
   {
    "duration": 8,
    "start_time": "2021-08-22T05:59:16.040Z"
   },
   {
    "duration": 7,
    "start_time": "2021-08-22T05:59:16.050Z"
   },
   {
    "duration": 434,
    "start_time": "2021-08-22T05:59:16.059Z"
   },
   {
    "duration": 8,
    "start_time": "2021-08-22T05:59:16.495Z"
   },
   {
    "duration": 10,
    "start_time": "2021-08-22T05:59:16.506Z"
   },
   {
    "duration": 234,
    "start_time": "2021-08-22T05:59:16.518Z"
   },
   {
    "duration": 9,
    "start_time": "2021-08-22T05:59:16.754Z"
   },
   {
    "duration": 18,
    "start_time": "2021-08-22T05:59:16.765Z"
   },
   {
    "duration": 6,
    "start_time": "2021-08-22T05:59:16.785Z"
   },
   {
    "duration": 11,
    "start_time": "2021-08-22T05:59:16.793Z"
   },
   {
    "duration": 9,
    "start_time": "2021-08-22T05:59:16.806Z"
   },
   {
    "duration": 16,
    "start_time": "2021-08-22T05:59:16.817Z"
   },
   {
    "duration": 54,
    "start_time": "2021-08-22T05:59:16.836Z"
   },
   {
    "duration": 9,
    "start_time": "2021-08-22T05:59:16.892Z"
   },
   {
    "duration": 5,
    "start_time": "2021-08-22T05:59:16.903Z"
   },
   {
    "duration": 13,
    "start_time": "2021-08-22T05:59:16.910Z"
   },
   {
    "duration": 15,
    "start_time": "2021-08-22T05:59:16.925Z"
   },
   {
    "duration": 13,
    "start_time": "2021-08-22T05:59:16.983Z"
   },
   {
    "duration": 16,
    "start_time": "2021-08-22T05:59:16.999Z"
   },
   {
    "duration": 7,
    "start_time": "2021-08-22T06:03:44.374Z"
   },
   {
    "duration": 17,
    "start_time": "2021-08-22T06:10:47.793Z"
   },
   {
    "duration": 15,
    "start_time": "2021-08-22T06:14:00.230Z"
   },
   {
    "duration": 23,
    "start_time": "2021-08-22T06:14:41.361Z"
   },
   {
    "duration": 9,
    "start_time": "2021-08-22T08:18:55.815Z"
   },
   {
    "duration": 9,
    "start_time": "2021-08-22T08:19:26.154Z"
   },
   {
    "duration": 10,
    "start_time": "2021-08-22T09:17:35.578Z"
   },
   {
    "duration": 10,
    "start_time": "2021-08-22T09:20:31.258Z"
   },
   {
    "duration": 9,
    "start_time": "2021-08-22T09:22:10.020Z"
   },
   {
    "duration": 6,
    "start_time": "2021-08-22T09:22:16.952Z"
   },
   {
    "duration": 12,
    "start_time": "2021-08-22T09:22:20.176Z"
   },
   {
    "duration": 15,
    "start_time": "2021-08-22T09:23:51.177Z"
   },
   {
    "duration": 13,
    "start_time": "2021-08-22T09:23:55.383Z"
   },
   {
    "duration": 12,
    "start_time": "2021-08-22T09:24:03.096Z"
   },
   {
    "duration": 6,
    "start_time": "2021-08-22T09:44:43.762Z"
   },
   {
    "duration": 69,
    "start_time": "2021-08-22T09:44:43.770Z"
   },
   {
    "duration": 10,
    "start_time": "2021-08-22T09:44:43.841Z"
   },
   {
    "duration": 9,
    "start_time": "2021-08-22T09:44:43.854Z"
   },
   {
    "duration": 11,
    "start_time": "2021-08-22T09:44:43.865Z"
   },
   {
    "duration": 17,
    "start_time": "2021-08-22T09:44:43.878Z"
   },
   {
    "duration": 13,
    "start_time": "2021-08-22T09:44:43.897Z"
   },
   {
    "duration": 14,
    "start_time": "2021-08-22T09:44:43.914Z"
   },
   {
    "duration": 7,
    "start_time": "2021-08-22T09:44:43.931Z"
   },
   {
    "duration": 53,
    "start_time": "2021-08-22T09:44:43.940Z"
   },
   {
    "duration": 13,
    "start_time": "2021-08-22T09:44:43.995Z"
   },
   {
    "duration": 8,
    "start_time": "2021-08-22T09:44:44.011Z"
   },
   {
    "duration": 12,
    "start_time": "2021-08-22T09:44:44.021Z"
   },
   {
    "duration": 11,
    "start_time": "2021-08-22T09:44:44.035Z"
   },
   {
    "duration": 49,
    "start_time": "2021-08-22T09:44:44.048Z"
   },
   {
    "duration": 10,
    "start_time": "2021-08-22T09:44:44.099Z"
   },
   {
    "duration": 16,
    "start_time": "2021-08-22T09:44:44.111Z"
   },
   {
    "duration": 22,
    "start_time": "2021-08-22T09:44:44.129Z"
   },
   {
    "duration": 40,
    "start_time": "2021-08-22T09:44:44.153Z"
   },
   {
    "duration": 17,
    "start_time": "2021-08-22T09:44:44.196Z"
   },
   {
    "duration": 21,
    "start_time": "2021-08-22T09:44:44.215Z"
   },
   {
    "duration": 465,
    "start_time": "2021-08-22T09:44:44.238Z"
   },
   {
    "duration": 891,
    "start_time": "2021-08-22T09:44:44.709Z"
   },
   {
    "duration": 308,
    "start_time": "2021-08-22T09:44:45.603Z"
   },
   {
    "duration": 398,
    "start_time": "2021-08-22T09:44:45.914Z"
   },
   {
    "duration": 329,
    "start_time": "2021-08-22T09:44:46.315Z"
   },
   {
    "duration": 535,
    "start_time": "2021-08-22T09:44:46.647Z"
   },
   {
    "duration": 13,
    "start_time": "2021-08-22T09:44:47.185Z"
   },
   {
    "duration": 192,
    "start_time": "2021-08-22T09:44:47.201Z"
   },
   {
    "duration": 397,
    "start_time": "2021-08-22T09:44:47.395Z"
   },
   {
    "duration": 8,
    "start_time": "2021-08-22T09:44:47.795Z"
   },
   {
    "duration": 11,
    "start_time": "2021-08-22T09:44:47.805Z"
   },
   {
    "duration": 378,
    "start_time": "2021-08-22T09:44:47.818Z"
   },
   {
    "duration": 9,
    "start_time": "2021-08-22T09:44:48.198Z"
   },
   {
    "duration": 13,
    "start_time": "2021-08-22T09:44:48.209Z"
   },
   {
    "duration": 207,
    "start_time": "2021-08-22T09:44:48.224Z"
   },
   {
    "duration": 9,
    "start_time": "2021-08-22T09:44:48.433Z"
   },
   {
    "duration": 5,
    "start_time": "2021-08-22T09:44:48.444Z"
   },
   {
    "duration": 34,
    "start_time": "2021-08-22T09:44:48.451Z"
   },
   {
    "duration": 10,
    "start_time": "2021-08-22T09:44:48.487Z"
   },
   {
    "duration": 10,
    "start_time": "2021-08-22T09:44:48.499Z"
   },
   {
    "duration": 17,
    "start_time": "2021-08-22T09:44:48.511Z"
   },
   {
    "duration": 53,
    "start_time": "2021-08-22T09:44:48.530Z"
   },
   {
    "duration": 8,
    "start_time": "2021-08-22T09:44:48.585Z"
   },
   {
    "duration": 13,
    "start_time": "2021-08-22T09:44:48.595Z"
   },
   {
    "duration": 12,
    "start_time": "2021-08-22T09:44:48.610Z"
   },
   {
    "duration": 21,
    "start_time": "2021-08-22T09:44:48.624Z"
   },
   {
    "duration": 42,
    "start_time": "2021-08-22T09:44:48.647Z"
   },
   {
    "duration": 12,
    "start_time": "2021-08-22T09:44:48.691Z"
   },
   {
    "duration": 12,
    "start_time": "2021-08-22T09:51:57.307Z"
   },
   {
    "duration": 11,
    "start_time": "2021-08-22T09:53:11.067Z"
   },
   {
    "duration": 12,
    "start_time": "2021-08-22T09:53:14.244Z"
   },
   {
    "duration": 2058,
    "start_time": "2021-08-22T19:05:37.108Z"
   },
   {
    "duration": 76,
    "start_time": "2021-08-22T19:05:39.169Z"
   },
   {
    "duration": 14,
    "start_time": "2021-08-22T19:05:39.248Z"
   },
   {
    "duration": 19,
    "start_time": "2021-08-22T19:05:39.265Z"
   },
   {
    "duration": 11,
    "start_time": "2021-08-22T19:05:39.287Z"
   },
   {
    "duration": 16,
    "start_time": "2021-08-22T19:05:39.301Z"
   },
   {
    "duration": 14,
    "start_time": "2021-08-22T19:05:39.320Z"
   },
   {
    "duration": 9,
    "start_time": "2021-08-22T19:05:39.336Z"
   },
   {
    "duration": 40,
    "start_time": "2021-08-22T19:05:39.347Z"
   },
   {
    "duration": 17,
    "start_time": "2021-08-22T19:05:39.389Z"
   },
   {
    "duration": 16,
    "start_time": "2021-08-22T19:05:39.408Z"
   },
   {
    "duration": 8,
    "start_time": "2021-08-22T19:05:39.427Z"
   },
   {
    "duration": 49,
    "start_time": "2021-08-22T19:05:39.438Z"
   },
   {
    "duration": 10,
    "start_time": "2021-08-22T19:05:39.489Z"
   },
   {
    "duration": 19,
    "start_time": "2021-08-22T19:05:39.501Z"
   },
   {
    "duration": 12,
    "start_time": "2021-08-22T19:05:39.522Z"
   },
   {
    "duration": 7,
    "start_time": "2021-08-22T19:05:39.536Z"
   },
   {
    "duration": 12,
    "start_time": "2021-08-22T19:05:39.585Z"
   },
   {
    "duration": 19,
    "start_time": "2021-08-22T19:05:39.600Z"
   },
   {
    "duration": 18,
    "start_time": "2021-08-22T19:05:39.621Z"
   },
   {
    "duration": 52,
    "start_time": "2021-08-22T19:05:39.641Z"
   },
   {
    "duration": 482,
    "start_time": "2021-08-22T19:05:39.696Z"
   },
   {
    "duration": 966,
    "start_time": "2021-08-22T19:05:40.185Z"
   },
   {
    "duration": 344,
    "start_time": "2021-08-22T19:05:41.154Z"
   },
   {
    "duration": 412,
    "start_time": "2021-08-22T19:05:41.500Z"
   },
   {
    "duration": 354,
    "start_time": "2021-08-22T19:05:41.914Z"
   },
   {
    "duration": 465,
    "start_time": "2021-08-22T19:05:42.270Z"
   },
   {
    "duration": 14,
    "start_time": "2021-08-22T19:05:42.737Z"
   },
   {
    "duration": 214,
    "start_time": "2021-08-22T19:05:42.753Z"
   },
   {
    "duration": 505,
    "start_time": "2021-08-22T19:05:42.986Z"
   },
   {
    "duration": 8,
    "start_time": "2021-08-22T19:05:43.493Z"
   },
   {
    "duration": 21,
    "start_time": "2021-08-22T19:05:43.503Z"
   },
   {
    "duration": 415,
    "start_time": "2021-08-22T19:05:43.526Z"
   },
   {
    "duration": 9,
    "start_time": "2021-08-22T19:05:43.944Z"
   },
   {
    "duration": 31,
    "start_time": "2021-08-22T19:05:43.956Z"
   },
   {
    "duration": 202,
    "start_time": "2021-08-22T19:05:43.990Z"
   },
   {
    "duration": 11,
    "start_time": "2021-08-22T19:05:44.195Z"
   },
   {
    "duration": 23,
    "start_time": "2021-08-22T19:05:44.209Z"
   },
   {
    "duration": 18,
    "start_time": "2021-08-22T19:05:44.235Z"
   },
   {
    "duration": 17,
    "start_time": "2021-08-22T19:05:44.255Z"
   },
   {
    "duration": 22,
    "start_time": "2021-08-22T19:05:44.274Z"
   },
   {
    "duration": 23,
    "start_time": "2021-08-22T19:05:44.298Z"
   },
   {
    "duration": 20,
    "start_time": "2021-08-22T19:05:44.323Z"
   },
   {
    "duration": 23,
    "start_time": "2021-08-22T19:05:44.345Z"
   },
   {
    "duration": 16,
    "start_time": "2021-08-22T19:05:44.370Z"
   },
   {
    "duration": 22,
    "start_time": "2021-08-22T19:05:44.389Z"
   },
   {
    "duration": 16,
    "start_time": "2021-08-22T19:05:44.414Z"
   },
   {
    "duration": 26,
    "start_time": "2021-08-22T19:05:44.432Z"
   },
   {
    "duration": 30,
    "start_time": "2021-08-22T19:05:44.460Z"
   }
  ],
  "kernelspec": {
   "display_name": "Python 3",
   "language": "python",
   "name": "python3"
  },
  "language_info": {
   "codemirror_mode": {
    "name": "ipython",
    "version": 3
   },
   "file_extension": ".py",
   "mimetype": "text/x-python",
   "name": "python",
   "nbconvert_exporter": "python",
   "pygments_lexer": "ipython3",
   "version": "3.8.3"
  },
  "toc": {
   "base_numbering": 1,
   "nav_menu": {},
   "number_sections": true,
   "sideBar": true,
   "skip_h1_title": true,
   "title_cell": "Table of Contents",
   "title_sidebar": "Contents",
   "toc_cell": false,
   "toc_position": {
    "height": "calc(100% - 180px)",
    "left": "10px",
    "top": "150px",
    "width": "165px"
   },
   "toc_section_display": true,
   "toc_window_display": true
  }
 },
 "nbformat": 4,
 "nbformat_minor": 2
}
